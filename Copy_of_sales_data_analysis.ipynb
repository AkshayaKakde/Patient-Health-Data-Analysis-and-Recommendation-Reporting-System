{
  "metadata": {
    "kernelspec": {
      "language": "python",
      "display_name": "Python 3",
      "name": "python3"
    },
    "language_info": {
      "name": "python",
      "version": "3.10.13",
      "mimetype": "text/x-python",
      "codemirror_mode": {
        "name": "ipython",
        "version": 3
      },
      "pygments_lexer": "ipython3",
      "nbconvert_exporter": "python",
      "file_extension": ".py"
    },
    "kaggle": {
      "accelerator": "none",
      "dataSources": [
        {
          "sourceId": 5181812,
          "sourceType": "datasetVersion",
          "datasetId": 3012492
        }
      ],
      "dockerImageVersionId": 30646,
      "isInternetEnabled": true,
      "language": "python",
      "sourceType": "notebook",
      "isGpuEnabled": false
    },
    "colab": {
      "provenance": [],
      "include_colab_link": true
    }
  },
  "nbformat_minor": 0,
  "nbformat": 4,
  "cells": [
    {
      "cell_type": "markdown",
      "metadata": {
        "id": "view-in-github",
        "colab_type": "text"
      },
      "source": [
        "<a href=\"https://colab.research.google.com/github/AkshayaKakde/Patient-Health-Data-Analysis-and-Recommendation-Reporting-System/blob/main/Copy_of_sales_data_analysis.ipynb\" target=\"_parent\"><img src=\"https://colab.research.google.com/assets/colab-badge.svg\" alt=\"Open In Colab\"/></a>"
      ]
    },
    {
      "cell_type": "code",
      "source": [
        "# This Python 3 environment comes with many helpful analytics libraries installed\n",
        "# It is defined by the kaggle/python Docker image: https://github.com/kaggle/docker-python\n",
        "# For example, here's several helpful packages to load\n",
        "\n",
        "import numpy as np # linear algebra\n",
        "import pandas as pd # data processing, CSV file I/O (e.g. pd.read_csv)\n",
        "\n",
        "# Input data files are available in the read-only \"../input/\" directory\n",
        "# For example, running this (by clicking run or pressing Shift+Enter) will list all files under the input directory\n",
        "\n",
        "import os\n",
        "for dirname, _, filenames in os.walk('/kaggle/input'):\n",
        "    for filename in filenames:\n",
        "        print(os.path.join(dirname, filename))\n",
        "\n",
        "# You can write up to 20GB to the current directory (/kaggle/working/) that gets preserved as output when you create a version using \"Save & Run All\"\n",
        "# You can also write temporary files to /kaggle/temp/, but they won't be saved outside of the current session"
      ],
      "metadata": {
        "id": "Z72LaL_VbW9n"
      },
      "execution_count": 2,
      "outputs": []
    },
    {
      "cell_type": "code",
      "source": [],
      "metadata": {
        "id": "lxxx90PebWw3"
      },
      "execution_count": null,
      "outputs": []
    },
    {
      "cell_type": "code",
      "source": [
        "import pandas as pd"
      ],
      "metadata": {
        "id": "0Ih2eaCtCySf"
      },
      "execution_count": null,
      "outputs": []
    },
    {
      "cell_type": "code",
      "source": [
        "df = pd.read_csv(\"sales_data.csv\")\n",
        "df"
      ],
      "metadata": {
        "execution": {
          "iopub.status.busy": "2024-02-07T14:41:11.668840Z",
          "iopub.execute_input": "2024-02-07T14:41:11.669368Z",
          "iopub.status.idle": "2024-02-07T14:41:11.862222Z",
          "shell.execute_reply.started": "2024-02-07T14:41:11.669330Z",
          "shell.execute_reply": "2024-02-07T14:41:11.860938Z"
        },
        "trusted": true,
        "colab": {
          "base_uri": "https://localhost:8080/",
          "height": 617
        },
        "id": "b_OKgwo7Bj9p",
        "outputId": "01de150b-b89b-4c5d-bb6f-bd204abadaa4"
      },
      "execution_count": 3,
      "outputs": [
        {
          "output_type": "execute_result",
          "data": {
            "text/plain": [
              "       index       Date    Year     Month  Customer Age Customer Gender  \\\n",
              "0          0  2/19/2016  2016.0  February          29.0               F   \n",
              "1          1  2/20/2016  2016.0  February          29.0               F   \n",
              "2          2  2/27/2016  2016.0  February          29.0               F   \n",
              "3          3  3/12/2016  2016.0     March          29.0               F   \n",
              "4          4  3/12/2016  2016.0     March          29.0               F   \n",
              "...      ...        ...     ...       ...           ...             ...   \n",
              "34862  34862   2/7/2016  2016.0  February          38.0               M   \n",
              "34863  34863  3/13/2015  2015.0     March          38.0               M   \n",
              "34864  34864   4/5/2015  2015.0     April          38.0               M   \n",
              "34865  34865  8/30/2015  2015.0    August          38.0               M   \n",
              "34866  34866        NaN     NaN       NaN           NaN             NaN   \n",
              "\n",
              "             Country           State Product Category     Sub Category  \\\n",
              "0      United States      Washington      Accessories  Tires and Tubes   \n",
              "1      United States      Washington         Clothing           Gloves   \n",
              "2      United States      Washington      Accessories  Tires and Tubes   \n",
              "3      United States      Washington      Accessories  Tires and Tubes   \n",
              "4      United States      Washington      Accessories  Tires and Tubes   \n",
              "...              ...             ...              ...              ...   \n",
              "34862         France  Hauts de Seine            Bikes   Mountain Bikes   \n",
              "34863         France  Hauts de Seine            Bikes   Mountain Bikes   \n",
              "34864         France  Hauts de Seine            Bikes   Mountain Bikes   \n",
              "34865         France  Hauts de Seine            Bikes   Mountain Bikes   \n",
              "34866            NaN             NaN              NaN              NaN   \n",
              "\n",
              "       Quantity  Unit Cost   Unit Price    Cost      Revenue  Column1  \n",
              "0           1.0      80.00   109.000000    80.0   109.000000      NaN  \n",
              "1           2.0      24.50    28.500000    49.0    57.000000      NaN  \n",
              "2           3.0       3.67     5.000000    11.0    15.000000      NaN  \n",
              "3           2.0      87.50   116.500000   175.0   233.000000      NaN  \n",
              "4           3.0      35.00    41.666667   105.0   125.000000      NaN  \n",
              "...         ...        ...          ...     ...          ...      ...  \n",
              "34862       2.0    1160.00   985.500000  2320.0  1971.000000      NaN  \n",
              "34863       1.0    2049.00  1583.000000  2049.0  1583.000000      NaN  \n",
              "34864       3.0     683.00   560.666667  2049.0  1682.000000      NaN  \n",
              "34865       1.0    2320.00  1568.000000  2320.0  1568.000000      NaN  \n",
              "34866       NaN        NaN          NaN     NaN   641.532095      NaN  \n",
              "\n",
              "[34867 rows x 16 columns]"
            ],
            "text/html": [
              "\n",
              "  <div id=\"df-46974d3f-2076-4511-bdd6-814fefe0eea6\" class=\"colab-df-container\">\n",
              "    <div>\n",
              "<style scoped>\n",
              "    .dataframe tbody tr th:only-of-type {\n",
              "        vertical-align: middle;\n",
              "    }\n",
              "\n",
              "    .dataframe tbody tr th {\n",
              "        vertical-align: top;\n",
              "    }\n",
              "\n",
              "    .dataframe thead th {\n",
              "        text-align: right;\n",
              "    }\n",
              "</style>\n",
              "<table border=\"1\" class=\"dataframe\">\n",
              "  <thead>\n",
              "    <tr style=\"text-align: right;\">\n",
              "      <th></th>\n",
              "      <th>index</th>\n",
              "      <th>Date</th>\n",
              "      <th>Year</th>\n",
              "      <th>Month</th>\n",
              "      <th>Customer Age</th>\n",
              "      <th>Customer Gender</th>\n",
              "      <th>Country</th>\n",
              "      <th>State</th>\n",
              "      <th>Product Category</th>\n",
              "      <th>Sub Category</th>\n",
              "      <th>Quantity</th>\n",
              "      <th>Unit Cost</th>\n",
              "      <th>Unit Price</th>\n",
              "      <th>Cost</th>\n",
              "      <th>Revenue</th>\n",
              "      <th>Column1</th>\n",
              "    </tr>\n",
              "  </thead>\n",
              "  <tbody>\n",
              "    <tr>\n",
              "      <th>0</th>\n",
              "      <td>0</td>\n",
              "      <td>2/19/2016</td>\n",
              "      <td>2016.0</td>\n",
              "      <td>February</td>\n",
              "      <td>29.0</td>\n",
              "      <td>F</td>\n",
              "      <td>United States</td>\n",
              "      <td>Washington</td>\n",
              "      <td>Accessories</td>\n",
              "      <td>Tires and Tubes</td>\n",
              "      <td>1.0</td>\n",
              "      <td>80.00</td>\n",
              "      <td>109.000000</td>\n",
              "      <td>80.0</td>\n",
              "      <td>109.000000</td>\n",
              "      <td>NaN</td>\n",
              "    </tr>\n",
              "    <tr>\n",
              "      <th>1</th>\n",
              "      <td>1</td>\n",
              "      <td>2/20/2016</td>\n",
              "      <td>2016.0</td>\n",
              "      <td>February</td>\n",
              "      <td>29.0</td>\n",
              "      <td>F</td>\n",
              "      <td>United States</td>\n",
              "      <td>Washington</td>\n",
              "      <td>Clothing</td>\n",
              "      <td>Gloves</td>\n",
              "      <td>2.0</td>\n",
              "      <td>24.50</td>\n",
              "      <td>28.500000</td>\n",
              "      <td>49.0</td>\n",
              "      <td>57.000000</td>\n",
              "      <td>NaN</td>\n",
              "    </tr>\n",
              "    <tr>\n",
              "      <th>2</th>\n",
              "      <td>2</td>\n",
              "      <td>2/27/2016</td>\n",
              "      <td>2016.0</td>\n",
              "      <td>February</td>\n",
              "      <td>29.0</td>\n",
              "      <td>F</td>\n",
              "      <td>United States</td>\n",
              "      <td>Washington</td>\n",
              "      <td>Accessories</td>\n",
              "      <td>Tires and Tubes</td>\n",
              "      <td>3.0</td>\n",
              "      <td>3.67</td>\n",
              "      <td>5.000000</td>\n",
              "      <td>11.0</td>\n",
              "      <td>15.000000</td>\n",
              "      <td>NaN</td>\n",
              "    </tr>\n",
              "    <tr>\n",
              "      <th>3</th>\n",
              "      <td>3</td>\n",
              "      <td>3/12/2016</td>\n",
              "      <td>2016.0</td>\n",
              "      <td>March</td>\n",
              "      <td>29.0</td>\n",
              "      <td>F</td>\n",
              "      <td>United States</td>\n",
              "      <td>Washington</td>\n",
              "      <td>Accessories</td>\n",
              "      <td>Tires and Tubes</td>\n",
              "      <td>2.0</td>\n",
              "      <td>87.50</td>\n",
              "      <td>116.500000</td>\n",
              "      <td>175.0</td>\n",
              "      <td>233.000000</td>\n",
              "      <td>NaN</td>\n",
              "    </tr>\n",
              "    <tr>\n",
              "      <th>4</th>\n",
              "      <td>4</td>\n",
              "      <td>3/12/2016</td>\n",
              "      <td>2016.0</td>\n",
              "      <td>March</td>\n",
              "      <td>29.0</td>\n",
              "      <td>F</td>\n",
              "      <td>United States</td>\n",
              "      <td>Washington</td>\n",
              "      <td>Accessories</td>\n",
              "      <td>Tires and Tubes</td>\n",
              "      <td>3.0</td>\n",
              "      <td>35.00</td>\n",
              "      <td>41.666667</td>\n",
              "      <td>105.0</td>\n",
              "      <td>125.000000</td>\n",
              "      <td>NaN</td>\n",
              "    </tr>\n",
              "    <tr>\n",
              "      <th>...</th>\n",
              "      <td>...</td>\n",
              "      <td>...</td>\n",
              "      <td>...</td>\n",
              "      <td>...</td>\n",
              "      <td>...</td>\n",
              "      <td>...</td>\n",
              "      <td>...</td>\n",
              "      <td>...</td>\n",
              "      <td>...</td>\n",
              "      <td>...</td>\n",
              "      <td>...</td>\n",
              "      <td>...</td>\n",
              "      <td>...</td>\n",
              "      <td>...</td>\n",
              "      <td>...</td>\n",
              "      <td>...</td>\n",
              "    </tr>\n",
              "    <tr>\n",
              "      <th>34862</th>\n",
              "      <td>34862</td>\n",
              "      <td>2/7/2016</td>\n",
              "      <td>2016.0</td>\n",
              "      <td>February</td>\n",
              "      <td>38.0</td>\n",
              "      <td>M</td>\n",
              "      <td>France</td>\n",
              "      <td>Hauts de Seine</td>\n",
              "      <td>Bikes</td>\n",
              "      <td>Mountain Bikes</td>\n",
              "      <td>2.0</td>\n",
              "      <td>1160.00</td>\n",
              "      <td>985.500000</td>\n",
              "      <td>2320.0</td>\n",
              "      <td>1971.000000</td>\n",
              "      <td>NaN</td>\n",
              "    </tr>\n",
              "    <tr>\n",
              "      <th>34863</th>\n",
              "      <td>34863</td>\n",
              "      <td>3/13/2015</td>\n",
              "      <td>2015.0</td>\n",
              "      <td>March</td>\n",
              "      <td>38.0</td>\n",
              "      <td>M</td>\n",
              "      <td>France</td>\n",
              "      <td>Hauts de Seine</td>\n",
              "      <td>Bikes</td>\n",
              "      <td>Mountain Bikes</td>\n",
              "      <td>1.0</td>\n",
              "      <td>2049.00</td>\n",
              "      <td>1583.000000</td>\n",
              "      <td>2049.0</td>\n",
              "      <td>1583.000000</td>\n",
              "      <td>NaN</td>\n",
              "    </tr>\n",
              "    <tr>\n",
              "      <th>34864</th>\n",
              "      <td>34864</td>\n",
              "      <td>4/5/2015</td>\n",
              "      <td>2015.0</td>\n",
              "      <td>April</td>\n",
              "      <td>38.0</td>\n",
              "      <td>M</td>\n",
              "      <td>France</td>\n",
              "      <td>Hauts de Seine</td>\n",
              "      <td>Bikes</td>\n",
              "      <td>Mountain Bikes</td>\n",
              "      <td>3.0</td>\n",
              "      <td>683.00</td>\n",
              "      <td>560.666667</td>\n",
              "      <td>2049.0</td>\n",
              "      <td>1682.000000</td>\n",
              "      <td>NaN</td>\n",
              "    </tr>\n",
              "    <tr>\n",
              "      <th>34865</th>\n",
              "      <td>34865</td>\n",
              "      <td>8/30/2015</td>\n",
              "      <td>2015.0</td>\n",
              "      <td>August</td>\n",
              "      <td>38.0</td>\n",
              "      <td>M</td>\n",
              "      <td>France</td>\n",
              "      <td>Hauts de Seine</td>\n",
              "      <td>Bikes</td>\n",
              "      <td>Mountain Bikes</td>\n",
              "      <td>1.0</td>\n",
              "      <td>2320.00</td>\n",
              "      <td>1568.000000</td>\n",
              "      <td>2320.0</td>\n",
              "      <td>1568.000000</td>\n",
              "      <td>NaN</td>\n",
              "    </tr>\n",
              "    <tr>\n",
              "      <th>34866</th>\n",
              "      <td>34866</td>\n",
              "      <td>NaN</td>\n",
              "      <td>NaN</td>\n",
              "      <td>NaN</td>\n",
              "      <td>NaN</td>\n",
              "      <td>NaN</td>\n",
              "      <td>NaN</td>\n",
              "      <td>NaN</td>\n",
              "      <td>NaN</td>\n",
              "      <td>NaN</td>\n",
              "      <td>NaN</td>\n",
              "      <td>NaN</td>\n",
              "      <td>NaN</td>\n",
              "      <td>NaN</td>\n",
              "      <td>641.532095</td>\n",
              "      <td>NaN</td>\n",
              "    </tr>\n",
              "  </tbody>\n",
              "</table>\n",
              "<p>34867 rows × 16 columns</p>\n",
              "</div>\n",
              "    <div class=\"colab-df-buttons\">\n",
              "\n",
              "  <div class=\"colab-df-container\">\n",
              "    <button class=\"colab-df-convert\" onclick=\"convertToInteractive('df-46974d3f-2076-4511-bdd6-814fefe0eea6')\"\n",
              "            title=\"Convert this dataframe to an interactive table.\"\n",
              "            style=\"display:none;\">\n",
              "\n",
              "  <svg xmlns=\"http://www.w3.org/2000/svg\" height=\"24px\" viewBox=\"0 -960 960 960\">\n",
              "    <path d=\"M120-120v-720h720v720H120Zm60-500h600v-160H180v160Zm220 220h160v-160H400v160Zm0 220h160v-160H400v160ZM180-400h160v-160H180v160Zm440 0h160v-160H620v160ZM180-180h160v-160H180v160Zm440 0h160v-160H620v160Z\"/>\n",
              "  </svg>\n",
              "    </button>\n",
              "\n",
              "  <style>\n",
              "    .colab-df-container {\n",
              "      display:flex;\n",
              "      gap: 12px;\n",
              "    }\n",
              "\n",
              "    .colab-df-convert {\n",
              "      background-color: #E8F0FE;\n",
              "      border: none;\n",
              "      border-radius: 50%;\n",
              "      cursor: pointer;\n",
              "      display: none;\n",
              "      fill: #1967D2;\n",
              "      height: 32px;\n",
              "      padding: 0 0 0 0;\n",
              "      width: 32px;\n",
              "    }\n",
              "\n",
              "    .colab-df-convert:hover {\n",
              "      background-color: #E2EBFA;\n",
              "      box-shadow: 0px 1px 2px rgba(60, 64, 67, 0.3), 0px 1px 3px 1px rgba(60, 64, 67, 0.15);\n",
              "      fill: #174EA6;\n",
              "    }\n",
              "\n",
              "    .colab-df-buttons div {\n",
              "      margin-bottom: 4px;\n",
              "    }\n",
              "\n",
              "    [theme=dark] .colab-df-convert {\n",
              "      background-color: #3B4455;\n",
              "      fill: #D2E3FC;\n",
              "    }\n",
              "\n",
              "    [theme=dark] .colab-df-convert:hover {\n",
              "      background-color: #434B5C;\n",
              "      box-shadow: 0px 1px 3px 1px rgba(0, 0, 0, 0.15);\n",
              "      filter: drop-shadow(0px 1px 2px rgba(0, 0, 0, 0.3));\n",
              "      fill: #FFFFFF;\n",
              "    }\n",
              "  </style>\n",
              "\n",
              "    <script>\n",
              "      const buttonEl =\n",
              "        document.querySelector('#df-46974d3f-2076-4511-bdd6-814fefe0eea6 button.colab-df-convert');\n",
              "      buttonEl.style.display =\n",
              "        google.colab.kernel.accessAllowed ? 'block' : 'none';\n",
              "\n",
              "      async function convertToInteractive(key) {\n",
              "        const element = document.querySelector('#df-46974d3f-2076-4511-bdd6-814fefe0eea6');\n",
              "        const dataTable =\n",
              "          await google.colab.kernel.invokeFunction('convertToInteractive',\n",
              "                                                    [key], {});\n",
              "        if (!dataTable) return;\n",
              "\n",
              "        const docLinkHtml = 'Like what you see? Visit the ' +\n",
              "          '<a target=\"_blank\" href=https://colab.research.google.com/notebooks/data_table.ipynb>data table notebook</a>'\n",
              "          + ' to learn more about interactive tables.';\n",
              "        element.innerHTML = '';\n",
              "        dataTable['output_type'] = 'display_data';\n",
              "        await google.colab.output.renderOutput(dataTable, element);\n",
              "        const docLink = document.createElement('div');\n",
              "        docLink.innerHTML = docLinkHtml;\n",
              "        element.appendChild(docLink);\n",
              "      }\n",
              "    </script>\n",
              "  </div>\n",
              "\n",
              "\n",
              "<div id=\"df-9e4649b1-71b3-459f-aab8-0c41135be397\">\n",
              "  <button class=\"colab-df-quickchart\" onclick=\"quickchart('df-9e4649b1-71b3-459f-aab8-0c41135be397')\"\n",
              "            title=\"Suggest charts\"\n",
              "            style=\"display:none;\">\n",
              "\n",
              "<svg xmlns=\"http://www.w3.org/2000/svg\" height=\"24px\"viewBox=\"0 0 24 24\"\n",
              "     width=\"24px\">\n",
              "    <g>\n",
              "        <path d=\"M19 3H5c-1.1 0-2 .9-2 2v14c0 1.1.9 2 2 2h14c1.1 0 2-.9 2-2V5c0-1.1-.9-2-2-2zM9 17H7v-7h2v7zm4 0h-2V7h2v10zm4 0h-2v-4h2v4z\"/>\n",
              "    </g>\n",
              "</svg>\n",
              "  </button>\n",
              "\n",
              "<style>\n",
              "  .colab-df-quickchart {\n",
              "      --bg-color: #E8F0FE;\n",
              "      --fill-color: #1967D2;\n",
              "      --hover-bg-color: #E2EBFA;\n",
              "      --hover-fill-color: #174EA6;\n",
              "      --disabled-fill-color: #AAA;\n",
              "      --disabled-bg-color: #DDD;\n",
              "  }\n",
              "\n",
              "  [theme=dark] .colab-df-quickchart {\n",
              "      --bg-color: #3B4455;\n",
              "      --fill-color: #D2E3FC;\n",
              "      --hover-bg-color: #434B5C;\n",
              "      --hover-fill-color: #FFFFFF;\n",
              "      --disabled-bg-color: #3B4455;\n",
              "      --disabled-fill-color: #666;\n",
              "  }\n",
              "\n",
              "  .colab-df-quickchart {\n",
              "    background-color: var(--bg-color);\n",
              "    border: none;\n",
              "    border-radius: 50%;\n",
              "    cursor: pointer;\n",
              "    display: none;\n",
              "    fill: var(--fill-color);\n",
              "    height: 32px;\n",
              "    padding: 0;\n",
              "    width: 32px;\n",
              "  }\n",
              "\n",
              "  .colab-df-quickchart:hover {\n",
              "    background-color: var(--hover-bg-color);\n",
              "    box-shadow: 0 1px 2px rgba(60, 64, 67, 0.3), 0 1px 3px 1px rgba(60, 64, 67, 0.15);\n",
              "    fill: var(--button-hover-fill-color);\n",
              "  }\n",
              "\n",
              "  .colab-df-quickchart-complete:disabled,\n",
              "  .colab-df-quickchart-complete:disabled:hover {\n",
              "    background-color: var(--disabled-bg-color);\n",
              "    fill: var(--disabled-fill-color);\n",
              "    box-shadow: none;\n",
              "  }\n",
              "\n",
              "  .colab-df-spinner {\n",
              "    border: 2px solid var(--fill-color);\n",
              "    border-color: transparent;\n",
              "    border-bottom-color: var(--fill-color);\n",
              "    animation:\n",
              "      spin 1s steps(1) infinite;\n",
              "  }\n",
              "\n",
              "  @keyframes spin {\n",
              "    0% {\n",
              "      border-color: transparent;\n",
              "      border-bottom-color: var(--fill-color);\n",
              "      border-left-color: var(--fill-color);\n",
              "    }\n",
              "    20% {\n",
              "      border-color: transparent;\n",
              "      border-left-color: var(--fill-color);\n",
              "      border-top-color: var(--fill-color);\n",
              "    }\n",
              "    30% {\n",
              "      border-color: transparent;\n",
              "      border-left-color: var(--fill-color);\n",
              "      border-top-color: var(--fill-color);\n",
              "      border-right-color: var(--fill-color);\n",
              "    }\n",
              "    40% {\n",
              "      border-color: transparent;\n",
              "      border-right-color: var(--fill-color);\n",
              "      border-top-color: var(--fill-color);\n",
              "    }\n",
              "    60% {\n",
              "      border-color: transparent;\n",
              "      border-right-color: var(--fill-color);\n",
              "    }\n",
              "    80% {\n",
              "      border-color: transparent;\n",
              "      border-right-color: var(--fill-color);\n",
              "      border-bottom-color: var(--fill-color);\n",
              "    }\n",
              "    90% {\n",
              "      border-color: transparent;\n",
              "      border-bottom-color: var(--fill-color);\n",
              "    }\n",
              "  }\n",
              "</style>\n",
              "\n",
              "  <script>\n",
              "    async function quickchart(key) {\n",
              "      const quickchartButtonEl =\n",
              "        document.querySelector('#' + key + ' button');\n",
              "      quickchartButtonEl.disabled = true;  // To prevent multiple clicks.\n",
              "      quickchartButtonEl.classList.add('colab-df-spinner');\n",
              "      try {\n",
              "        const charts = await google.colab.kernel.invokeFunction(\n",
              "            'suggestCharts', [key], {});\n",
              "      } catch (error) {\n",
              "        console.error('Error during call to suggestCharts:', error);\n",
              "      }\n",
              "      quickchartButtonEl.classList.remove('colab-df-spinner');\n",
              "      quickchartButtonEl.classList.add('colab-df-quickchart-complete');\n",
              "    }\n",
              "    (() => {\n",
              "      let quickchartButtonEl =\n",
              "        document.querySelector('#df-9e4649b1-71b3-459f-aab8-0c41135be397 button');\n",
              "      quickchartButtonEl.style.display =\n",
              "        google.colab.kernel.accessAllowed ? 'block' : 'none';\n",
              "    })();\n",
              "  </script>\n",
              "</div>\n",
              "\n",
              "  <div id=\"id_2e3d0621-f5a2-4735-8fd4-fdef5a1fbe45\">\n",
              "    <style>\n",
              "      .colab-df-generate {\n",
              "        background-color: #E8F0FE;\n",
              "        border: none;\n",
              "        border-radius: 50%;\n",
              "        cursor: pointer;\n",
              "        display: none;\n",
              "        fill: #1967D2;\n",
              "        height: 32px;\n",
              "        padding: 0 0 0 0;\n",
              "        width: 32px;\n",
              "      }\n",
              "\n",
              "      .colab-df-generate:hover {\n",
              "        background-color: #E2EBFA;\n",
              "        box-shadow: 0px 1px 2px rgba(60, 64, 67, 0.3), 0px 1px 3px 1px rgba(60, 64, 67, 0.15);\n",
              "        fill: #174EA6;\n",
              "      }\n",
              "\n",
              "      [theme=dark] .colab-df-generate {\n",
              "        background-color: #3B4455;\n",
              "        fill: #D2E3FC;\n",
              "      }\n",
              "\n",
              "      [theme=dark] .colab-df-generate:hover {\n",
              "        background-color: #434B5C;\n",
              "        box-shadow: 0px 1px 3px 1px rgba(0, 0, 0, 0.15);\n",
              "        filter: drop-shadow(0px 1px 2px rgba(0, 0, 0, 0.3));\n",
              "        fill: #FFFFFF;\n",
              "      }\n",
              "    </style>\n",
              "    <button class=\"colab-df-generate\" onclick=\"generateWithVariable('df')\"\n",
              "            title=\"Generate code using this dataframe.\"\n",
              "            style=\"display:none;\">\n",
              "\n",
              "  <svg xmlns=\"http://www.w3.org/2000/svg\" height=\"24px\"viewBox=\"0 0 24 24\"\n",
              "       width=\"24px\">\n",
              "    <path d=\"M7,19H8.4L18.45,9,17,7.55,7,17.6ZM5,21V16.75L18.45,3.32a2,2,0,0,1,2.83,0l1.4,1.43a1.91,1.91,0,0,1,.58,1.4,1.91,1.91,0,0,1-.58,1.4L9.25,21ZM18.45,9,17,7.55Zm-12,3A5.31,5.31,0,0,0,4.9,8.1,5.31,5.31,0,0,0,1,6.5,5.31,5.31,0,0,0,4.9,4.9,5.31,5.31,0,0,0,6.5,1,5.31,5.31,0,0,0,8.1,4.9,5.31,5.31,0,0,0,12,6.5,5.46,5.46,0,0,0,6.5,12Z\"/>\n",
              "  </svg>\n",
              "    </button>\n",
              "    <script>\n",
              "      (() => {\n",
              "      const buttonEl =\n",
              "        document.querySelector('#id_2e3d0621-f5a2-4735-8fd4-fdef5a1fbe45 button.colab-df-generate');\n",
              "      buttonEl.style.display =\n",
              "        google.colab.kernel.accessAllowed ? 'block' : 'none';\n",
              "\n",
              "      buttonEl.onclick = () => {\n",
              "        google.colab.notebook.generateWithVariable('df');\n",
              "      }\n",
              "      })();\n",
              "    </script>\n",
              "  </div>\n",
              "\n",
              "    </div>\n",
              "  </div>\n"
            ]
          },
          "metadata": {},
          "execution_count": 3
        }
      ]
    },
    {
      "cell_type": "markdown",
      "source": [
        "Analysis Questions :\n",
        "    \n",
        "What is the overall revenue for the entire dataset?\n",
        "\n",
        "How does the revenue vary over the years?\n",
        "\n",
        "What is the average quantity sold per month?\n",
        "\n",
        "Can you identify the top-selling product categories?\n",
        "\n",
        "What is the distribution of customer ages in the dataset?\n",
        "\n",
        "How does the average unit cost and unit price vary by product category?\n",
        "\n",
        "What is the total cost and revenue for each product category?\n",
        "\n",
        "Are there any outliers in the quantity sold or unit price?\n",
        "\n",
        "What is the most common product sub-category sold?\n",
        "\n",
        "How does the revenue vary by customer gender?\n",
        "\n",
        "Can you identify the highest revenue-generating states?\n",
        "\n",
        "What is the average quantity sold per product sub-category?\n",
        "\n",
        "How has the sales quantity changed over the years?\n",
        "\n",
        "What is the average unit cost and unit price per state?\n",
        "\n",
        "Can you identify any seasonality in the sales data?\n",
        "\n",
        "What is the total revenue for each country?\n",
        "\n",
        "Are there any correlations between customer age and revenue?\n",
        "\n",
        "How does the quantity sold vary by product category and sub-category?\n",
        "\n",
        "What is the distribution of customer ages by gender?\n",
        "\n",
        "Can you identify any trends in the sales data using a moving average?\n",
        "\n",
        "What is the percentage contribution of each product category to the total revenue?\n",
        "\n",
        "How do unit cost and unit price vary by country?\n",
        "\n",
        "What is the total revenue for each year and month?\n",
        "\n",
        "Can you identify any patterns in customer purchasing behavior?\n",
        "\n",
        "What is the average revenue per customer by state?\n",
        "\n",
        "Are there any significant differences in revenue between countries?\n",
        "\n",
        "How does the unit price impact the quantity sold?\n",
        "\n",
        "Can you identify any outliers in the customer age distribution?\n",
        "\n",
        "What is the average revenue per product category?\n",
        "\n",
        "How does the revenue vary by month and product category?\n",
        "\n",
        "What is the average unit cost and unit price per year?\n",
        "\n",
        "Are there any trends in the sales data based on customer gender?\n",
        "\n",
        "What is the total revenue for each product sub-category?\n",
        "\n",
        "How does the sales quantity correlate with unit price?\n",
        "\n",
        "Can you identify any patterns in customer purchasing over the months?\n",
        "\n",
        "What is the distribution of customer ages in each state?\n",
        "\n",
        "How does the revenue vary by year and state?\n",
        "\n",
        "What is the average revenue per customer by country?\n",
        "\n",
        "Can you identify any outliers in the cost and revenue columns?\n",
        "\n",
        "How has the quantity sold changed over the months?\n",
        "\n",
        "What is the total revenue for each product sub-category and year?\n",
        "\n",
        "How does the average unit price vary by product sub-category?\n",
        "\n",
        "Can you identify any patterns in the sales data using a rolling window?\n",
        "\n",
        "What is the average revenue per customer by product category?\n",
        "\n",
        "How does the sales quantity vary by state and product category?\n",
        "\n",
        "What is the total revenue for each state and product category?\n",
        "\n",
        "Can you identify any correlations between unit cost and unit price?\n",
        "\n",
        "How does the quantity sold vary by year and product category?\n",
        "\n",
        "What is the average unit cost and unit price per month?\n",
        "\n",
        "Can you identify any patterns or anomalies in the 'Column1' column?"
      ],
      "metadata": {
        "id": "i04eexNoBj9q"
      }
    },
    {
      "cell_type": "markdown",
      "source": [
        "What is the overall revenue for the entire dataset?"
      ],
      "metadata": {
        "id": "CdvWdKTzBj9t"
      }
    },
    {
      "cell_type": "code",
      "source": [
        "import pandas as pd\n",
        "\n",
        "df = pd.read_csv(\"/path/to/your/sales_data.csv\")\n",
        "\n",
        "overall_revenue = df['Revenue'].sum()\n",
        "print(\"Overall Revenue:\", overall_revenue)\n"
      ],
      "metadata": {
        "colab": {
          "base_uri": "https://localhost:8080/",
          "height": 408
        },
        "id": "vtSG0NcbDdgg",
        "outputId": "6ad87ead-e483-4eb2-8878-ebddaaf373ea"
      },
      "execution_count": 1,
      "outputs": [
        {
          "output_type": "error",
          "ename": "FileNotFoundError",
          "evalue": "[Errno 2] No such file or directory: '/path/to/your/sales_data.csv'",
          "traceback": [
            "\u001b[0;31m---------------------------------------------------------------------------\u001b[0m",
            "\u001b[0;31mFileNotFoundError\u001b[0m                         Traceback (most recent call last)",
            "\u001b[0;32m<ipython-input-1-ca06ce7cbdcf>\u001b[0m in \u001b[0;36m<cell line: 3>\u001b[0;34m()\u001b[0m\n\u001b[1;32m      1\u001b[0m \u001b[0;32mimport\u001b[0m \u001b[0mpandas\u001b[0m \u001b[0;32mas\u001b[0m \u001b[0mpd\u001b[0m\u001b[0;34m\u001b[0m\u001b[0;34m\u001b[0m\u001b[0m\n\u001b[1;32m      2\u001b[0m \u001b[0;34m\u001b[0m\u001b[0m\n\u001b[0;32m----> 3\u001b[0;31m \u001b[0mdf\u001b[0m \u001b[0;34m=\u001b[0m \u001b[0mpd\u001b[0m\u001b[0;34m.\u001b[0m\u001b[0mread_csv\u001b[0m\u001b[0;34m(\u001b[0m\u001b[0;34m\"/path/to/your/sales_data.csv\"\u001b[0m\u001b[0;34m)\u001b[0m\u001b[0;34m\u001b[0m\u001b[0;34m\u001b[0m\u001b[0m\n\u001b[0m\u001b[1;32m      4\u001b[0m \u001b[0;34m\u001b[0m\u001b[0m\n\u001b[1;32m      5\u001b[0m \u001b[0moverall_revenue\u001b[0m \u001b[0;34m=\u001b[0m \u001b[0mdf\u001b[0m\u001b[0;34m[\u001b[0m\u001b[0;34m'Revenue'\u001b[0m\u001b[0;34m]\u001b[0m\u001b[0;34m.\u001b[0m\u001b[0msum\u001b[0m\u001b[0;34m(\u001b[0m\u001b[0;34m)\u001b[0m\u001b[0;34m\u001b[0m\u001b[0;34m\u001b[0m\u001b[0m\n",
            "\u001b[0;32m/usr/local/lib/python3.10/dist-packages/pandas/util/_decorators.py\u001b[0m in \u001b[0;36mwrapper\u001b[0;34m(*args, **kwargs)\u001b[0m\n\u001b[1;32m    209\u001b[0m                 \u001b[0;32melse\u001b[0m\u001b[0;34m:\u001b[0m\u001b[0;34m\u001b[0m\u001b[0;34m\u001b[0m\u001b[0m\n\u001b[1;32m    210\u001b[0m                     \u001b[0mkwargs\u001b[0m\u001b[0;34m[\u001b[0m\u001b[0mnew_arg_name\u001b[0m\u001b[0;34m]\u001b[0m \u001b[0;34m=\u001b[0m \u001b[0mnew_arg_value\u001b[0m\u001b[0;34m\u001b[0m\u001b[0;34m\u001b[0m\u001b[0m\n\u001b[0;32m--> 211\u001b[0;31m             \u001b[0;32mreturn\u001b[0m \u001b[0mfunc\u001b[0m\u001b[0;34m(\u001b[0m\u001b[0;34m*\u001b[0m\u001b[0margs\u001b[0m\u001b[0;34m,\u001b[0m \u001b[0;34m**\u001b[0m\u001b[0mkwargs\u001b[0m\u001b[0;34m)\u001b[0m\u001b[0;34m\u001b[0m\u001b[0;34m\u001b[0m\u001b[0m\n\u001b[0m\u001b[1;32m    212\u001b[0m \u001b[0;34m\u001b[0m\u001b[0m\n\u001b[1;32m    213\u001b[0m         \u001b[0;32mreturn\u001b[0m \u001b[0mcast\u001b[0m\u001b[0;34m(\u001b[0m\u001b[0mF\u001b[0m\u001b[0;34m,\u001b[0m \u001b[0mwrapper\u001b[0m\u001b[0;34m)\u001b[0m\u001b[0;34m\u001b[0m\u001b[0;34m\u001b[0m\u001b[0m\n",
            "\u001b[0;32m/usr/local/lib/python3.10/dist-packages/pandas/util/_decorators.py\u001b[0m in \u001b[0;36mwrapper\u001b[0;34m(*args, **kwargs)\u001b[0m\n\u001b[1;32m    329\u001b[0m                     \u001b[0mstacklevel\u001b[0m\u001b[0;34m=\u001b[0m\u001b[0mfind_stack_level\u001b[0m\u001b[0;34m(\u001b[0m\u001b[0;34m)\u001b[0m\u001b[0;34m,\u001b[0m\u001b[0;34m\u001b[0m\u001b[0;34m\u001b[0m\u001b[0m\n\u001b[1;32m    330\u001b[0m                 )\n\u001b[0;32m--> 331\u001b[0;31m             \u001b[0;32mreturn\u001b[0m \u001b[0mfunc\u001b[0m\u001b[0;34m(\u001b[0m\u001b[0;34m*\u001b[0m\u001b[0margs\u001b[0m\u001b[0;34m,\u001b[0m \u001b[0;34m**\u001b[0m\u001b[0mkwargs\u001b[0m\u001b[0;34m)\u001b[0m\u001b[0;34m\u001b[0m\u001b[0;34m\u001b[0m\u001b[0m\n\u001b[0m\u001b[1;32m    332\u001b[0m \u001b[0;34m\u001b[0m\u001b[0m\n\u001b[1;32m    333\u001b[0m         \u001b[0;31m# error: \"Callable[[VarArg(Any), KwArg(Any)], Any]\" has no\u001b[0m\u001b[0;34m\u001b[0m\u001b[0;34m\u001b[0m\u001b[0m\n",
            "\u001b[0;32m/usr/local/lib/python3.10/dist-packages/pandas/io/parsers/readers.py\u001b[0m in \u001b[0;36mread_csv\u001b[0;34m(filepath_or_buffer, sep, delimiter, header, names, index_col, usecols, squeeze, prefix, mangle_dupe_cols, dtype, engine, converters, true_values, false_values, skipinitialspace, skiprows, skipfooter, nrows, na_values, keep_default_na, na_filter, verbose, skip_blank_lines, parse_dates, infer_datetime_format, keep_date_col, date_parser, dayfirst, cache_dates, iterator, chunksize, compression, thousands, decimal, lineterminator, quotechar, quoting, doublequote, escapechar, comment, encoding, encoding_errors, dialect, error_bad_lines, warn_bad_lines, on_bad_lines, delim_whitespace, low_memory, memory_map, float_precision, storage_options)\u001b[0m\n\u001b[1;32m    948\u001b[0m     \u001b[0mkwds\u001b[0m\u001b[0;34m.\u001b[0m\u001b[0mupdate\u001b[0m\u001b[0;34m(\u001b[0m\u001b[0mkwds_defaults\u001b[0m\u001b[0;34m)\u001b[0m\u001b[0;34m\u001b[0m\u001b[0;34m\u001b[0m\u001b[0m\n\u001b[1;32m    949\u001b[0m \u001b[0;34m\u001b[0m\u001b[0m\n\u001b[0;32m--> 950\u001b[0;31m     \u001b[0;32mreturn\u001b[0m \u001b[0m_read\u001b[0m\u001b[0;34m(\u001b[0m\u001b[0mfilepath_or_buffer\u001b[0m\u001b[0;34m,\u001b[0m \u001b[0mkwds\u001b[0m\u001b[0;34m)\u001b[0m\u001b[0;34m\u001b[0m\u001b[0;34m\u001b[0m\u001b[0m\n\u001b[0m\u001b[1;32m    951\u001b[0m \u001b[0;34m\u001b[0m\u001b[0m\n\u001b[1;32m    952\u001b[0m \u001b[0;34m\u001b[0m\u001b[0m\n",
            "\u001b[0;32m/usr/local/lib/python3.10/dist-packages/pandas/io/parsers/readers.py\u001b[0m in \u001b[0;36m_read\u001b[0;34m(filepath_or_buffer, kwds)\u001b[0m\n\u001b[1;32m    603\u001b[0m \u001b[0;34m\u001b[0m\u001b[0m\n\u001b[1;32m    604\u001b[0m     \u001b[0;31m# Create the parser.\u001b[0m\u001b[0;34m\u001b[0m\u001b[0;34m\u001b[0m\u001b[0m\n\u001b[0;32m--> 605\u001b[0;31m     \u001b[0mparser\u001b[0m \u001b[0;34m=\u001b[0m \u001b[0mTextFileReader\u001b[0m\u001b[0;34m(\u001b[0m\u001b[0mfilepath_or_buffer\u001b[0m\u001b[0;34m,\u001b[0m \u001b[0;34m**\u001b[0m\u001b[0mkwds\u001b[0m\u001b[0;34m)\u001b[0m\u001b[0;34m\u001b[0m\u001b[0;34m\u001b[0m\u001b[0m\n\u001b[0m\u001b[1;32m    606\u001b[0m \u001b[0;34m\u001b[0m\u001b[0m\n\u001b[1;32m    607\u001b[0m     \u001b[0;32mif\u001b[0m \u001b[0mchunksize\u001b[0m \u001b[0;32mor\u001b[0m \u001b[0miterator\u001b[0m\u001b[0;34m:\u001b[0m\u001b[0;34m\u001b[0m\u001b[0;34m\u001b[0m\u001b[0m\n",
            "\u001b[0;32m/usr/local/lib/python3.10/dist-packages/pandas/io/parsers/readers.py\u001b[0m in \u001b[0;36m__init__\u001b[0;34m(self, f, engine, **kwds)\u001b[0m\n\u001b[1;32m   1440\u001b[0m \u001b[0;34m\u001b[0m\u001b[0m\n\u001b[1;32m   1441\u001b[0m         \u001b[0mself\u001b[0m\u001b[0;34m.\u001b[0m\u001b[0mhandles\u001b[0m\u001b[0;34m:\u001b[0m \u001b[0mIOHandles\u001b[0m \u001b[0;34m|\u001b[0m \u001b[0;32mNone\u001b[0m \u001b[0;34m=\u001b[0m \u001b[0;32mNone\u001b[0m\u001b[0;34m\u001b[0m\u001b[0;34m\u001b[0m\u001b[0m\n\u001b[0;32m-> 1442\u001b[0;31m         \u001b[0mself\u001b[0m\u001b[0;34m.\u001b[0m\u001b[0m_engine\u001b[0m \u001b[0;34m=\u001b[0m \u001b[0mself\u001b[0m\u001b[0;34m.\u001b[0m\u001b[0m_make_engine\u001b[0m\u001b[0;34m(\u001b[0m\u001b[0mf\u001b[0m\u001b[0;34m,\u001b[0m \u001b[0mself\u001b[0m\u001b[0;34m.\u001b[0m\u001b[0mengine\u001b[0m\u001b[0;34m)\u001b[0m\u001b[0;34m\u001b[0m\u001b[0;34m\u001b[0m\u001b[0m\n\u001b[0m\u001b[1;32m   1443\u001b[0m \u001b[0;34m\u001b[0m\u001b[0m\n\u001b[1;32m   1444\u001b[0m     \u001b[0;32mdef\u001b[0m \u001b[0mclose\u001b[0m\u001b[0;34m(\u001b[0m\u001b[0mself\u001b[0m\u001b[0;34m)\u001b[0m \u001b[0;34m->\u001b[0m \u001b[0;32mNone\u001b[0m\u001b[0;34m:\u001b[0m\u001b[0;34m\u001b[0m\u001b[0;34m\u001b[0m\u001b[0m\n",
            "\u001b[0;32m/usr/local/lib/python3.10/dist-packages/pandas/io/parsers/readers.py\u001b[0m in \u001b[0;36m_make_engine\u001b[0;34m(self, f, engine)\u001b[0m\n\u001b[1;32m   1733\u001b[0m                 \u001b[0;32mif\u001b[0m \u001b[0;34m\"b\"\u001b[0m \u001b[0;32mnot\u001b[0m \u001b[0;32min\u001b[0m \u001b[0mmode\u001b[0m\u001b[0;34m:\u001b[0m\u001b[0;34m\u001b[0m\u001b[0;34m\u001b[0m\u001b[0m\n\u001b[1;32m   1734\u001b[0m                     \u001b[0mmode\u001b[0m \u001b[0;34m+=\u001b[0m \u001b[0;34m\"b\"\u001b[0m\u001b[0;34m\u001b[0m\u001b[0;34m\u001b[0m\u001b[0m\n\u001b[0;32m-> 1735\u001b[0;31m             self.handles = get_handle(\n\u001b[0m\u001b[1;32m   1736\u001b[0m                 \u001b[0mf\u001b[0m\u001b[0;34m,\u001b[0m\u001b[0;34m\u001b[0m\u001b[0;34m\u001b[0m\u001b[0m\n\u001b[1;32m   1737\u001b[0m                 \u001b[0mmode\u001b[0m\u001b[0;34m,\u001b[0m\u001b[0;34m\u001b[0m\u001b[0;34m\u001b[0m\u001b[0m\n",
            "\u001b[0;32m/usr/local/lib/python3.10/dist-packages/pandas/io/common.py\u001b[0m in \u001b[0;36mget_handle\u001b[0;34m(path_or_buf, mode, encoding, compression, memory_map, is_text, errors, storage_options)\u001b[0m\n\u001b[1;32m    854\u001b[0m         \u001b[0;32mif\u001b[0m \u001b[0mioargs\u001b[0m\u001b[0;34m.\u001b[0m\u001b[0mencoding\u001b[0m \u001b[0;32mand\u001b[0m \u001b[0;34m\"b\"\u001b[0m \u001b[0;32mnot\u001b[0m \u001b[0;32min\u001b[0m \u001b[0mioargs\u001b[0m\u001b[0;34m.\u001b[0m\u001b[0mmode\u001b[0m\u001b[0;34m:\u001b[0m\u001b[0;34m\u001b[0m\u001b[0;34m\u001b[0m\u001b[0m\n\u001b[1;32m    855\u001b[0m             \u001b[0;31m# Encoding\u001b[0m\u001b[0;34m\u001b[0m\u001b[0;34m\u001b[0m\u001b[0m\n\u001b[0;32m--> 856\u001b[0;31m             handle = open(\n\u001b[0m\u001b[1;32m    857\u001b[0m                 \u001b[0mhandle\u001b[0m\u001b[0;34m,\u001b[0m\u001b[0;34m\u001b[0m\u001b[0;34m\u001b[0m\u001b[0m\n\u001b[1;32m    858\u001b[0m                 \u001b[0mioargs\u001b[0m\u001b[0;34m.\u001b[0m\u001b[0mmode\u001b[0m\u001b[0;34m,\u001b[0m\u001b[0;34m\u001b[0m\u001b[0;34m\u001b[0m\u001b[0m\n",
            "\u001b[0;31mFileNotFoundError\u001b[0m: [Errno 2] No such file or directory: '/path/to/your/sales_data.csv'"
          ]
        }
      ]
    },
    {
      "cell_type": "code",
      "source": [],
      "metadata": {
        "id": "k8Hsm1aKat7o"
      },
      "execution_count": null,
      "outputs": []
    },
    {
      "cell_type": "markdown",
      "source": [
        "How does the revenue vary over the years?"
      ],
      "metadata": {
        "id": "IHlMxQS3DeC7"
      }
    },
    {
      "cell_type": "code",
      "source": [],
      "metadata": {
        "id": "nqwrOFs8Dhqa"
      },
      "execution_count": null,
      "outputs": []
    },
    {
      "cell_type": "markdown",
      "source": [
        "What is the average quantity sold per month?"
      ],
      "metadata": {
        "id": "Q1XsWzRFDiWp"
      }
    },
    {
      "cell_type": "code",
      "source": [],
      "metadata": {
        "id": "YYqDWdpMDi8s"
      },
      "execution_count": null,
      "outputs": []
    },
    {
      "cell_type": "markdown",
      "source": [
        "Can you identify the top-selling product categories?"
      ],
      "metadata": {
        "id": "lF3IxZKiDjqO"
      }
    },
    {
      "cell_type": "code",
      "source": [],
      "metadata": {
        "id": "_gsAh9MGDkDO"
      },
      "execution_count": null,
      "outputs": []
    },
    {
      "cell_type": "markdown",
      "source": [
        "What is the distribution of customer ages in the dataset?"
      ],
      "metadata": {
        "id": "76C465RuDkfo"
      }
    },
    {
      "cell_type": "code",
      "source": [],
      "metadata": {
        "id": "p_QGIEWvDk5Z"
      },
      "execution_count": null,
      "outputs": []
    },
    {
      "cell_type": "markdown",
      "source": [
        "How does the average unit cost and unit price vary by product category?"
      ],
      "metadata": {
        "id": "q3uVxny_DlQD"
      }
    },
    {
      "cell_type": "code",
      "source": [],
      "metadata": {
        "id": "vte91a8oDmAv"
      },
      "execution_count": null,
      "outputs": []
    },
    {
      "cell_type": "markdown",
      "source": [
        "What is the total cost and revenue for each product category?"
      ],
      "metadata": {
        "id": "wWI7olK7DmiE"
      }
    },
    {
      "cell_type": "code",
      "source": [],
      "metadata": {
        "id": "XpoMY2CIDm7X"
      },
      "execution_count": null,
      "outputs": []
    },
    {
      "cell_type": "markdown",
      "source": [
        "Are there any outliers in the quantity sold or unit price?"
      ],
      "metadata": {
        "id": "eQAa-LH1DnPX"
      }
    },
    {
      "cell_type": "code",
      "source": [],
      "metadata": {
        "id": "MzS7_nWvDnwK"
      },
      "execution_count": null,
      "outputs": []
    },
    {
      "cell_type": "markdown",
      "source": [
        "What is the most common product sub-category sold?"
      ],
      "metadata": {
        "id": "3JLWvqmUDoD_"
      }
    },
    {
      "cell_type": "code",
      "source": [],
      "metadata": {
        "id": "qZY3XtekDopu"
      },
      "execution_count": null,
      "outputs": []
    },
    {
      "cell_type": "markdown",
      "source": [
        "How does the revenue vary by customer gender?"
      ],
      "metadata": {
        "id": "OPkIfSsMDpB7"
      }
    },
    {
      "cell_type": "code",
      "source": [],
      "metadata": {
        "id": "fAQjJEXaDpcP"
      },
      "execution_count": null,
      "outputs": []
    },
    {
      "cell_type": "markdown",
      "source": [
        "Can you identify the highest revenue-generating states?"
      ],
      "metadata": {
        "id": "IoVat8uIDpy5"
      }
    },
    {
      "cell_type": "code",
      "source": [],
      "metadata": {
        "id": "4MYl1lVTDqMq"
      },
      "execution_count": null,
      "outputs": []
    },
    {
      "cell_type": "markdown",
      "source": [
        "What is the average quantity sold per product sub-category?"
      ],
      "metadata": {
        "id": "5rKgpVs_Dq3X"
      }
    },
    {
      "cell_type": "code",
      "source": [],
      "metadata": {
        "id": "BGgJ8uTQDrP1"
      },
      "execution_count": 3,
      "outputs": []
    },
    {
      "cell_type": "markdown",
      "source": [
        "How has the sales quantity changed over the years?"
      ],
      "metadata": {
        "id": "CsOcCmAjDruE"
      }
    },
    {
      "cell_type": "code",
      "source": [],
      "metadata": {
        "id": "_uwSA5MVDsTj"
      },
      "execution_count": null,
      "outputs": []
    },
    {
      "cell_type": "markdown",
      "source": [
        "What is the average unit cost and unit price per state?"
      ],
      "metadata": {
        "id": "JOBvB7sNDssT"
      }
    },
    {
      "cell_type": "code",
      "source": [],
      "metadata": {
        "id": "aSEAAvXvDtVs"
      },
      "execution_count": null,
      "outputs": []
    },
    {
      "cell_type": "markdown",
      "source": [
        "Can you identify any seasonality in the sales data?"
      ],
      "metadata": {
        "id": "DZ9ytdVDDtr0"
      }
    },
    {
      "cell_type": "code",
      "source": [],
      "metadata": {
        "id": "uJZbm6vFDuF5"
      },
      "execution_count": null,
      "outputs": []
    },
    {
      "cell_type": "markdown",
      "source": [
        "What is the total revenue for each country?"
      ],
      "metadata": {
        "id": "iQZqsnm_Dube"
      }
    },
    {
      "cell_type": "code",
      "source": [],
      "metadata": {
        "id": "vqZJvtTKDu45"
      },
      "execution_count": null,
      "outputs": []
    },
    {
      "cell_type": "markdown",
      "source": [
        "Are there any correlations between customer age and revenue?"
      ],
      "metadata": {
        "id": "lCAzbKCRDvRY"
      }
    },
    {
      "cell_type": "code",
      "source": [],
      "metadata": {
        "id": "EHJWrEtIDv7S"
      },
      "execution_count": null,
      "outputs": []
    },
    {
      "cell_type": "markdown",
      "source": [
        "How does the quantity sold vary by product category and sub-category?"
      ],
      "metadata": {
        "id": "71WOLFrODwXb"
      }
    },
    {
      "cell_type": "code",
      "source": [],
      "metadata": {
        "id": "DPxdeRqzDwzS"
      },
      "execution_count": null,
      "outputs": []
    },
    {
      "cell_type": "markdown",
      "source": [
        "What is the distribution of customer ages by gender?"
      ],
      "metadata": {
        "id": "RM2V3tuXDxIG"
      }
    },
    {
      "cell_type": "code",
      "source": [],
      "metadata": {
        "id": "aQ2PdiY2Dxgl"
      },
      "execution_count": null,
      "outputs": []
    },
    {
      "cell_type": "markdown",
      "source": [
        "Can you identify any trends in the sales data using a moving average?"
      ],
      "metadata": {
        "id": "A_fujv_tDx1a"
      }
    },
    {
      "cell_type": "code",
      "source": [],
      "metadata": {
        "id": "KCHAoux9DyeC"
      },
      "execution_count": null,
      "outputs": []
    },
    {
      "cell_type": "markdown",
      "source": [
        "What is the percentage contribution of each product category to the total revenue?"
      ],
      "metadata": {
        "id": "LbiC2Xi8Dyy3"
      }
    },
    {
      "cell_type": "code",
      "source": [],
      "metadata": {
        "id": "cp3TK2QqDzNK"
      },
      "execution_count": null,
      "outputs": []
    },
    {
      "cell_type": "markdown",
      "source": [
        "How do unit cost and unit price vary by country?"
      ],
      "metadata": {
        "id": "fZntHyQdDzhe"
      }
    },
    {
      "cell_type": "code",
      "source": [],
      "metadata": {
        "id": "k9w9W8VPDz8j"
      },
      "execution_count": null,
      "outputs": []
    },
    {
      "cell_type": "markdown",
      "source": [
        "What is the total revenue for each year and month?"
      ],
      "metadata": {
        "id": "R-VwGBfRD0uC"
      }
    },
    {
      "cell_type": "code",
      "source": [],
      "metadata": {
        "id": "f5dbNzT6D1I2"
      },
      "execution_count": null,
      "outputs": []
    },
    {
      "cell_type": "markdown",
      "source": [
        "Can you identify any patterns in customer purchasing behavior?"
      ],
      "metadata": {
        "id": "B4mF3svqD1jr"
      }
    },
    {
      "cell_type": "code",
      "source": [],
      "metadata": {
        "id": "pTiWhVybD187"
      },
      "execution_count": null,
      "outputs": []
    },
    {
      "cell_type": "markdown",
      "source": [
        "What is the average revenue per customer by state?"
      ],
      "metadata": {
        "id": "Z4P5sgcOD2Sj"
      }
    },
    {
      "cell_type": "code",
      "source": [],
      "metadata": {
        "id": "kE6KzkI8D3LT"
      },
      "execution_count": null,
      "outputs": []
    },
    {
      "cell_type": "markdown",
      "source": [
        "Are there any significant differences in revenue between countries?"
      ],
      "metadata": {
        "id": "4t0iIDdbD3dx"
      }
    },
    {
      "cell_type": "code",
      "source": [],
      "metadata": {
        "id": "uKxQ5xCuD3zI"
      },
      "execution_count": null,
      "outputs": []
    },
    {
      "cell_type": "markdown",
      "source": [
        "How does the unit price impact the quantity sold?"
      ],
      "metadata": {
        "id": "psTDiif4D4JB"
      }
    },
    {
      "cell_type": "code",
      "source": [],
      "metadata": {
        "id": "P6oLMDqID47h"
      },
      "execution_count": null,
      "outputs": []
    },
    {
      "cell_type": "markdown",
      "source": [
        "Can you identify any outliers in the customer age distribution?"
      ],
      "metadata": {
        "id": "XL3plMBJD5RI"
      }
    },
    {
      "cell_type": "code",
      "source": [],
      "metadata": {
        "id": "Tiz0dMQQD56R"
      },
      "execution_count": null,
      "outputs": []
    },
    {
      "cell_type": "markdown",
      "source": [
        "What is the average revenue per product category?"
      ],
      "metadata": {
        "id": "wXT1vaP3D6Th"
      }
    },
    {
      "cell_type": "code",
      "source": [],
      "metadata": {
        "id": "56AktitOD62b"
      },
      "execution_count": null,
      "outputs": []
    },
    {
      "cell_type": "markdown",
      "source": [
        "How does the revenue vary by month and product category?"
      ],
      "metadata": {
        "id": "BS95YDZ8D7LQ"
      }
    },
    {
      "cell_type": "code",
      "source": [],
      "metadata": {
        "id": "AsuWwH3BD7ju"
      },
      "execution_count": null,
      "outputs": []
    },
    {
      "cell_type": "markdown",
      "source": [
        "What is the average unit cost and unit price per year?"
      ],
      "metadata": {
        "id": "gntW-3TdD73x"
      }
    },
    {
      "cell_type": "code",
      "source": [],
      "metadata": {
        "id": "VRTluYpND8a8"
      },
      "execution_count": null,
      "outputs": []
    },
    {
      "cell_type": "markdown",
      "source": [
        "Are there any trends in the sales data based on customer gender?"
      ],
      "metadata": {
        "id": "yhLKzSTSD8wy"
      }
    },
    {
      "cell_type": "code",
      "source": [],
      "metadata": {
        "id": "7EAYCQ61D9Jz"
      },
      "execution_count": null,
      "outputs": []
    },
    {
      "cell_type": "markdown",
      "source": [
        "What is the total revenue for each product sub-category?"
      ],
      "metadata": {
        "id": "ETgJR8SED9gc"
      }
    },
    {
      "cell_type": "code",
      "source": [],
      "metadata": {
        "id": "4PvxfYLwD-D3"
      },
      "execution_count": null,
      "outputs": []
    },
    {
      "cell_type": "markdown",
      "source": [
        "How does the sales quantity correlate with unit price?"
      ],
      "metadata": {
        "id": "ZqZ6cC5xD-Xp"
      }
    },
    {
      "cell_type": "code",
      "source": [],
      "metadata": {
        "id": "U20dHL8XD-0k"
      },
      "execution_count": null,
      "outputs": []
    },
    {
      "cell_type": "markdown",
      "source": [
        "Can you identify any patterns in customer purchasing over the months?"
      ],
      "metadata": {
        "id": "wCTai5wqD_K8"
      }
    },
    {
      "cell_type": "code",
      "source": [],
      "metadata": {
        "id": "XKCqHiKiD_7o"
      },
      "execution_count": null,
      "outputs": []
    },
    {
      "cell_type": "markdown",
      "source": [
        "What is the distribution of customer ages in each state?"
      ],
      "metadata": {
        "id": "rqhKSvi0EAQu"
      }
    },
    {
      "cell_type": "code",
      "source": [],
      "metadata": {
        "id": "uNHHBEzUEAmV"
      },
      "execution_count": null,
      "outputs": []
    },
    {
      "cell_type": "markdown",
      "source": [
        "How does the revenue vary by year and state?"
      ],
      "metadata": {
        "id": "Grczs8tZEBJg"
      }
    },
    {
      "cell_type": "code",
      "source": [],
      "metadata": {
        "id": "_6GNEmQ2EBix"
      },
      "execution_count": null,
      "outputs": []
    },
    {
      "cell_type": "markdown",
      "source": [
        "What is the average revenue per customer by country?"
      ],
      "metadata": {
        "id": "-MQAmaqMECLY"
      }
    },
    {
      "cell_type": "code",
      "source": [],
      "metadata": {
        "id": "IHezum5xECmO"
      },
      "execution_count": null,
      "outputs": []
    },
    {
      "cell_type": "markdown",
      "source": [
        "Can you identify any outliers in the cost and revenue columns?"
      ],
      "metadata": {
        "id": "z6X_EoolEC9I"
      }
    },
    {
      "cell_type": "code",
      "source": [],
      "metadata": {
        "id": "Dt2Fzb18EDe-"
      },
      "execution_count": null,
      "outputs": []
    },
    {
      "cell_type": "markdown",
      "source": [
        "How has the quantity sold changed over the months?"
      ],
      "metadata": {
        "id": "LHIOexA5ED1H"
      }
    },
    {
      "cell_type": "code",
      "source": [],
      "metadata": {
        "id": "-YmX-c4eEEbp"
      },
      "execution_count": null,
      "outputs": []
    },
    {
      "cell_type": "markdown",
      "source": [
        "What is the total revenue for each product sub-category and year?"
      ],
      "metadata": {
        "id": "FIVN-gRWEE0H"
      }
    },
    {
      "cell_type": "code",
      "source": [],
      "metadata": {
        "id": "DMLBSUjFEFRz"
      },
      "execution_count": null,
      "outputs": []
    },
    {
      "cell_type": "markdown",
      "source": [
        "How does the average unit price vary by product sub-category?"
      ],
      "metadata": {
        "id": "IvPJu0-oEFna"
      }
    },
    {
      "cell_type": "code",
      "source": [],
      "metadata": {
        "id": "VYHe5rxmEYh2"
      },
      "execution_count": null,
      "outputs": []
    },
    {
      "cell_type": "markdown",
      "source": [
        "Can you identify any patterns in the sales data using a rolling window?"
      ],
      "metadata": {
        "id": "8ZB3goRqEZST"
      }
    },
    {
      "cell_type": "code",
      "source": [],
      "metadata": {
        "id": "o0OdgllOEZr0"
      },
      "execution_count": null,
      "outputs": []
    },
    {
      "cell_type": "markdown",
      "source": [
        "What is the average revenue per customer by product category?"
      ],
      "metadata": {
        "id": "EblzmVDnEaME"
      }
    },
    {
      "cell_type": "code",
      "source": [],
      "metadata": {
        "id": "PQGHMj-fEaiw"
      },
      "execution_count": null,
      "outputs": []
    },
    {
      "cell_type": "markdown",
      "source": [
        "How does the sales quantity vary by state and product category?"
      ],
      "metadata": {
        "id": "bigo0Q8rEa7f"
      }
    },
    {
      "cell_type": "code",
      "source": [],
      "metadata": {
        "id": "-71EvvC3EbSK"
      },
      "execution_count": null,
      "outputs": []
    },
    {
      "cell_type": "markdown",
      "source": [
        "What is the total revenue for each state and product category?"
      ],
      "metadata": {
        "id": "X449noY_Ebzd"
      }
    },
    {
      "cell_type": "code",
      "source": [],
      "metadata": {
        "id": "Sux-O2PLEcM9"
      },
      "execution_count": null,
      "outputs": []
    },
    {
      "cell_type": "markdown",
      "source": [
        "Can you identify any correlations between unit cost and unit price?"
      ],
      "metadata": {
        "id": "smBsWZJKEchl"
      }
    },
    {
      "cell_type": "code",
      "source": [],
      "metadata": {
        "id": "ISyXAsS5Ec7D"
      },
      "execution_count": null,
      "outputs": []
    },
    {
      "cell_type": "markdown",
      "source": [
        "How does the quantity sold vary by year and product category?"
      ],
      "metadata": {
        "id": "zd3Q6ZQpEddb"
      }
    },
    {
      "cell_type": "code",
      "source": [],
      "metadata": {
        "id": "leZz0a_QEd9u"
      },
      "execution_count": null,
      "outputs": []
    },
    {
      "cell_type": "markdown",
      "source": [
        "What is the average unit cost and unit price per month?"
      ],
      "metadata": {
        "id": "v36WpGQ3EeZE"
      }
    },
    {
      "cell_type": "code",
      "source": [],
      "metadata": {
        "id": "NCVDx4z0EfIy"
      },
      "execution_count": null,
      "outputs": []
    },
    {
      "cell_type": "markdown",
      "source": [
        "Can you identify any patterns or anomalies in the 'Column1' column?"
      ],
      "metadata": {
        "id": "6_OGSmF_EgCo"
      }
    },
    {
      "cell_type": "code",
      "source": [],
      "metadata": {
        "id": "Bs2PiSk1EhAT"
      },
      "execution_count": null,
      "outputs": []
    },
    {
      "cell_type": "markdown",
      "source": [],
      "metadata": {
        "id": "OX9b55P7Eh7s"
      }
    },
    {
      "cell_type": "code",
      "source": [],
      "metadata": {
        "id": "nFC3Aa04Eijy"
      },
      "execution_count": null,
      "outputs": []
    }
  ]
}