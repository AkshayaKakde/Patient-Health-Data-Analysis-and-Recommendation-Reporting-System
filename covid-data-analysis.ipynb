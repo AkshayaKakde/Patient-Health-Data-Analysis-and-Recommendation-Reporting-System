{
  "metadata": {
    "kernelspec": {
      "language": "python",
      "display_name": "Python 3",
      "name": "python3"
    },
    "language_info": {
      "name": "python",
      "version": "3.10.13",
      "mimetype": "text/x-python",
      "codemirror_mode": {
        "name": "ipython",
        "version": 3
      },
      "pygments_lexer": "ipython3",
      "nbconvert_exporter": "python",
      "file_extension": ".py"
    },
    "kaggle": {
      "accelerator": "none",
      "dataSources": [
        {
          "sourceId": 1402868,
          "sourceType": "datasetVersion",
          "datasetId": 494766
        }
      ],
      "dockerImageVersionId": 30646,
      "isInternetEnabled": true,
      "language": "python",
      "sourceType": "notebook",
      "isGpuEnabled": false
    },
    "colab": {
      "provenance": []
    }
  },
  "nbformat_minor": 0,
  "nbformat": 4,
  "cells": [
    {
      "cell_type": "code",
      "source": [
        "# This Python 3 environment comes with many helpful analytics libraries installed\n",
        "# It is defined by the kaggle/python Docker image: https://github.com/kaggle/docker-python\n",
        "# For example, here's several helpful packages to load\n",
        "\n",
        "import numpy as np # linear algebra\n",
        "import pandas as pd # data processing, CSV file I/O (e.g. pd.read_csv)\n",
        "\n",
        "# Input data files are available in the read-only \"../input/\" directory\n",
        "# For example, running this (by clicking run or pressing Shift+Enter) will list all files under the input directory\n",
        "\n",
        "import os\n",
        "for dirname, _, filenames in os.walk('/kaggle/input'):\n",
        "    for filename in filenames:\n",
        "        print(os.path.join(dirname, filename))\n",
        "\n",
        "# You can write up to 20GB to the current directory (/kaggle/working/) that gets preserved as output when you create a version using \"Save & Run All\"\n",
        "# You can also write temporary files to /kaggle/temp/, but they won't be saved outside of the current session"
      ],
      "metadata": {
        "_uuid": "8f2839f25d086af736a60e9eeb907d3b93b6e0e5",
        "_cell_guid": "b1076dfc-b9ad-4769-8c92-a6c4dae69d19",
        "execution": {
          "iopub.status.busy": "2024-02-07T14:55:10.197595Z",
          "iopub.execute_input": "2024-02-07T14:55:10.198761Z",
          "iopub.status.idle": "2024-02-07T14:55:11.676840Z",
          "shell.execute_reply.started": "2024-02-07T14:55:10.198679Z",
          "shell.execute_reply": "2024-02-07T14:55:11.675608Z"
        },
        "trusted": true,
        "id": "1Xh01dYc57rb"
      },
      "execution_count": 1,
      "outputs": []
    },
    {
      "cell_type": "code",
      "source": [
        "df = pd.read_csv(\"covid_19_clean_complete.csv\")\n",
        "df"
      ],
      "metadata": {
        "execution": {
          "iopub.status.busy": "2024-02-07T14:55:21.280313Z",
          "iopub.execute_input": "2024-02-07T14:55:21.281703Z",
          "iopub.status.idle": "2024-02-07T14:55:21.474167Z",
          "shell.execute_reply.started": "2024-02-07T14:55:21.281654Z",
          "shell.execute_reply": "2024-02-07T14:55:21.472703Z"
        },
        "trusted": true,
        "id": "M9wZbzat57rj",
        "outputId": "fd0e9fef-85c8-4a7b-d887-e8ad85bd594a",
        "colab": {
          "base_uri": "https://localhost:8080/",
          "height": 617
        }
      },
      "execution_count": 2,
      "outputs": [
        {
          "output_type": "execute_result",
          "data": {
            "text/plain": [
              "      Province/State         Country/Region        Lat       Long        Date  \\\n",
              "0                NaN            Afghanistan  33.939110  67.709953  2020-01-22   \n",
              "1                NaN                Albania  41.153300  20.168300  2020-01-22   \n",
              "2                NaN                Algeria  28.033900   1.659600  2020-01-22   \n",
              "3                NaN                Andorra  42.506300   1.521800  2020-01-22   \n",
              "4                NaN                 Angola -11.202700  17.873900  2020-01-22   \n",
              "...              ...                    ...        ...        ...         ...   \n",
              "49063            NaN  Sao Tome and Principe   0.186400   6.613100  2020-07-27   \n",
              "49064            NaN                  Yemen  15.552727  48.516388  2020-07-27   \n",
              "49065            NaN                Comoros -11.645500  43.333300  2020-07-27   \n",
              "49066            NaN             Tajikistan  38.861000  71.276100  2020-07-27   \n",
              "49067            NaN                Lesotho -29.610000  28.233600  2020-07-27   \n",
              "\n",
              "       Confirmed  Deaths  Recovered  Active             WHO Region  \n",
              "0              0       0          0       0  Eastern Mediterranean  \n",
              "1              0       0          0       0                 Europe  \n",
              "2              0       0          0       0                 Africa  \n",
              "3              0       0          0       0                 Europe  \n",
              "4              0       0          0       0                 Africa  \n",
              "...          ...     ...        ...     ...                    ...  \n",
              "49063        865      14        734     117                 Africa  \n",
              "49064       1691     483        833     375  Eastern Mediterranean  \n",
              "49065        354       7        328      19                 Africa  \n",
              "49066       7235      60       6028    1147                 Europe  \n",
              "49067        505      12        128     365                 Africa  \n",
              "\n",
              "[49068 rows x 10 columns]"
            ],
            "text/html": [
              "\n",
              "  <div id=\"df-ccb52ef9-1acb-49d1-b934-04719a28f86e\" class=\"colab-df-container\">\n",
              "    <div>\n",
              "<style scoped>\n",
              "    .dataframe tbody tr th:only-of-type {\n",
              "        vertical-align: middle;\n",
              "    }\n",
              "\n",
              "    .dataframe tbody tr th {\n",
              "        vertical-align: top;\n",
              "    }\n",
              "\n",
              "    .dataframe thead th {\n",
              "        text-align: right;\n",
              "    }\n",
              "</style>\n",
              "<table border=\"1\" class=\"dataframe\">\n",
              "  <thead>\n",
              "    <tr style=\"text-align: right;\">\n",
              "      <th></th>\n",
              "      <th>Province/State</th>\n",
              "      <th>Country/Region</th>\n",
              "      <th>Lat</th>\n",
              "      <th>Long</th>\n",
              "      <th>Date</th>\n",
              "      <th>Confirmed</th>\n",
              "      <th>Deaths</th>\n",
              "      <th>Recovered</th>\n",
              "      <th>Active</th>\n",
              "      <th>WHO Region</th>\n",
              "    </tr>\n",
              "  </thead>\n",
              "  <tbody>\n",
              "    <tr>\n",
              "      <th>0</th>\n",
              "      <td>NaN</td>\n",
              "      <td>Afghanistan</td>\n",
              "      <td>33.939110</td>\n",
              "      <td>67.709953</td>\n",
              "      <td>2020-01-22</td>\n",
              "      <td>0</td>\n",
              "      <td>0</td>\n",
              "      <td>0</td>\n",
              "      <td>0</td>\n",
              "      <td>Eastern Mediterranean</td>\n",
              "    </tr>\n",
              "    <tr>\n",
              "      <th>1</th>\n",
              "      <td>NaN</td>\n",
              "      <td>Albania</td>\n",
              "      <td>41.153300</td>\n",
              "      <td>20.168300</td>\n",
              "      <td>2020-01-22</td>\n",
              "      <td>0</td>\n",
              "      <td>0</td>\n",
              "      <td>0</td>\n",
              "      <td>0</td>\n",
              "      <td>Europe</td>\n",
              "    </tr>\n",
              "    <tr>\n",
              "      <th>2</th>\n",
              "      <td>NaN</td>\n",
              "      <td>Algeria</td>\n",
              "      <td>28.033900</td>\n",
              "      <td>1.659600</td>\n",
              "      <td>2020-01-22</td>\n",
              "      <td>0</td>\n",
              "      <td>0</td>\n",
              "      <td>0</td>\n",
              "      <td>0</td>\n",
              "      <td>Africa</td>\n",
              "    </tr>\n",
              "    <tr>\n",
              "      <th>3</th>\n",
              "      <td>NaN</td>\n",
              "      <td>Andorra</td>\n",
              "      <td>42.506300</td>\n",
              "      <td>1.521800</td>\n",
              "      <td>2020-01-22</td>\n",
              "      <td>0</td>\n",
              "      <td>0</td>\n",
              "      <td>0</td>\n",
              "      <td>0</td>\n",
              "      <td>Europe</td>\n",
              "    </tr>\n",
              "    <tr>\n",
              "      <th>4</th>\n",
              "      <td>NaN</td>\n",
              "      <td>Angola</td>\n",
              "      <td>-11.202700</td>\n",
              "      <td>17.873900</td>\n",
              "      <td>2020-01-22</td>\n",
              "      <td>0</td>\n",
              "      <td>0</td>\n",
              "      <td>0</td>\n",
              "      <td>0</td>\n",
              "      <td>Africa</td>\n",
              "    </tr>\n",
              "    <tr>\n",
              "      <th>...</th>\n",
              "      <td>...</td>\n",
              "      <td>...</td>\n",
              "      <td>...</td>\n",
              "      <td>...</td>\n",
              "      <td>...</td>\n",
              "      <td>...</td>\n",
              "      <td>...</td>\n",
              "      <td>...</td>\n",
              "      <td>...</td>\n",
              "      <td>...</td>\n",
              "    </tr>\n",
              "    <tr>\n",
              "      <th>49063</th>\n",
              "      <td>NaN</td>\n",
              "      <td>Sao Tome and Principe</td>\n",
              "      <td>0.186400</td>\n",
              "      <td>6.613100</td>\n",
              "      <td>2020-07-27</td>\n",
              "      <td>865</td>\n",
              "      <td>14</td>\n",
              "      <td>734</td>\n",
              "      <td>117</td>\n",
              "      <td>Africa</td>\n",
              "    </tr>\n",
              "    <tr>\n",
              "      <th>49064</th>\n",
              "      <td>NaN</td>\n",
              "      <td>Yemen</td>\n",
              "      <td>15.552727</td>\n",
              "      <td>48.516388</td>\n",
              "      <td>2020-07-27</td>\n",
              "      <td>1691</td>\n",
              "      <td>483</td>\n",
              "      <td>833</td>\n",
              "      <td>375</td>\n",
              "      <td>Eastern Mediterranean</td>\n",
              "    </tr>\n",
              "    <tr>\n",
              "      <th>49065</th>\n",
              "      <td>NaN</td>\n",
              "      <td>Comoros</td>\n",
              "      <td>-11.645500</td>\n",
              "      <td>43.333300</td>\n",
              "      <td>2020-07-27</td>\n",
              "      <td>354</td>\n",
              "      <td>7</td>\n",
              "      <td>328</td>\n",
              "      <td>19</td>\n",
              "      <td>Africa</td>\n",
              "    </tr>\n",
              "    <tr>\n",
              "      <th>49066</th>\n",
              "      <td>NaN</td>\n",
              "      <td>Tajikistan</td>\n",
              "      <td>38.861000</td>\n",
              "      <td>71.276100</td>\n",
              "      <td>2020-07-27</td>\n",
              "      <td>7235</td>\n",
              "      <td>60</td>\n",
              "      <td>6028</td>\n",
              "      <td>1147</td>\n",
              "      <td>Europe</td>\n",
              "    </tr>\n",
              "    <tr>\n",
              "      <th>49067</th>\n",
              "      <td>NaN</td>\n",
              "      <td>Lesotho</td>\n",
              "      <td>-29.610000</td>\n",
              "      <td>28.233600</td>\n",
              "      <td>2020-07-27</td>\n",
              "      <td>505</td>\n",
              "      <td>12</td>\n",
              "      <td>128</td>\n",
              "      <td>365</td>\n",
              "      <td>Africa</td>\n",
              "    </tr>\n",
              "  </tbody>\n",
              "</table>\n",
              "<p>49068 rows × 10 columns</p>\n",
              "</div>\n",
              "    <div class=\"colab-df-buttons\">\n",
              "\n",
              "  <div class=\"colab-df-container\">\n",
              "    <button class=\"colab-df-convert\" onclick=\"convertToInteractive('df-ccb52ef9-1acb-49d1-b934-04719a28f86e')\"\n",
              "            title=\"Convert this dataframe to an interactive table.\"\n",
              "            style=\"display:none;\">\n",
              "\n",
              "  <svg xmlns=\"http://www.w3.org/2000/svg\" height=\"24px\" viewBox=\"0 -960 960 960\">\n",
              "    <path d=\"M120-120v-720h720v720H120Zm60-500h600v-160H180v160Zm220 220h160v-160H400v160Zm0 220h160v-160H400v160ZM180-400h160v-160H180v160Zm440 0h160v-160H620v160ZM180-180h160v-160H180v160Zm440 0h160v-160H620v160Z\"/>\n",
              "  </svg>\n",
              "    </button>\n",
              "\n",
              "  <style>\n",
              "    .colab-df-container {\n",
              "      display:flex;\n",
              "      gap: 12px;\n",
              "    }\n",
              "\n",
              "    .colab-df-convert {\n",
              "      background-color: #E8F0FE;\n",
              "      border: none;\n",
              "      border-radius: 50%;\n",
              "      cursor: pointer;\n",
              "      display: none;\n",
              "      fill: #1967D2;\n",
              "      height: 32px;\n",
              "      padding: 0 0 0 0;\n",
              "      width: 32px;\n",
              "    }\n",
              "\n",
              "    .colab-df-convert:hover {\n",
              "      background-color: #E2EBFA;\n",
              "      box-shadow: 0px 1px 2px rgba(60, 64, 67, 0.3), 0px 1px 3px 1px rgba(60, 64, 67, 0.15);\n",
              "      fill: #174EA6;\n",
              "    }\n",
              "\n",
              "    .colab-df-buttons div {\n",
              "      margin-bottom: 4px;\n",
              "    }\n",
              "\n",
              "    [theme=dark] .colab-df-convert {\n",
              "      background-color: #3B4455;\n",
              "      fill: #D2E3FC;\n",
              "    }\n",
              "\n",
              "    [theme=dark] .colab-df-convert:hover {\n",
              "      background-color: #434B5C;\n",
              "      box-shadow: 0px 1px 3px 1px rgba(0, 0, 0, 0.15);\n",
              "      filter: drop-shadow(0px 1px 2px rgba(0, 0, 0, 0.3));\n",
              "      fill: #FFFFFF;\n",
              "    }\n",
              "  </style>\n",
              "\n",
              "    <script>\n",
              "      const buttonEl =\n",
              "        document.querySelector('#df-ccb52ef9-1acb-49d1-b934-04719a28f86e button.colab-df-convert');\n",
              "      buttonEl.style.display =\n",
              "        google.colab.kernel.accessAllowed ? 'block' : 'none';\n",
              "\n",
              "      async function convertToInteractive(key) {\n",
              "        const element = document.querySelector('#df-ccb52ef9-1acb-49d1-b934-04719a28f86e');\n",
              "        const dataTable =\n",
              "          await google.colab.kernel.invokeFunction('convertToInteractive',\n",
              "                                                    [key], {});\n",
              "        if (!dataTable) return;\n",
              "\n",
              "        const docLinkHtml = 'Like what you see? Visit the ' +\n",
              "          '<a target=\"_blank\" href=https://colab.research.google.com/notebooks/data_table.ipynb>data table notebook</a>'\n",
              "          + ' to learn more about interactive tables.';\n",
              "        element.innerHTML = '';\n",
              "        dataTable['output_type'] = 'display_data';\n",
              "        await google.colab.output.renderOutput(dataTable, element);\n",
              "        const docLink = document.createElement('div');\n",
              "        docLink.innerHTML = docLinkHtml;\n",
              "        element.appendChild(docLink);\n",
              "      }\n",
              "    </script>\n",
              "  </div>\n",
              "\n",
              "\n",
              "<div id=\"df-adf6591f-4a19-40dc-8a67-7e5dc02f1461\">\n",
              "  <button class=\"colab-df-quickchart\" onclick=\"quickchart('df-adf6591f-4a19-40dc-8a67-7e5dc02f1461')\"\n",
              "            title=\"Suggest charts\"\n",
              "            style=\"display:none;\">\n",
              "\n",
              "<svg xmlns=\"http://www.w3.org/2000/svg\" height=\"24px\"viewBox=\"0 0 24 24\"\n",
              "     width=\"24px\">\n",
              "    <g>\n",
              "        <path d=\"M19 3H5c-1.1 0-2 .9-2 2v14c0 1.1.9 2 2 2h14c1.1 0 2-.9 2-2V5c0-1.1-.9-2-2-2zM9 17H7v-7h2v7zm4 0h-2V7h2v10zm4 0h-2v-4h2v4z\"/>\n",
              "    </g>\n",
              "</svg>\n",
              "  </button>\n",
              "\n",
              "<style>\n",
              "  .colab-df-quickchart {\n",
              "      --bg-color: #E8F0FE;\n",
              "      --fill-color: #1967D2;\n",
              "      --hover-bg-color: #E2EBFA;\n",
              "      --hover-fill-color: #174EA6;\n",
              "      --disabled-fill-color: #AAA;\n",
              "      --disabled-bg-color: #DDD;\n",
              "  }\n",
              "\n",
              "  [theme=dark] .colab-df-quickchart {\n",
              "      --bg-color: #3B4455;\n",
              "      --fill-color: #D2E3FC;\n",
              "      --hover-bg-color: #434B5C;\n",
              "      --hover-fill-color: #FFFFFF;\n",
              "      --disabled-bg-color: #3B4455;\n",
              "      --disabled-fill-color: #666;\n",
              "  }\n",
              "\n",
              "  .colab-df-quickchart {\n",
              "    background-color: var(--bg-color);\n",
              "    border: none;\n",
              "    border-radius: 50%;\n",
              "    cursor: pointer;\n",
              "    display: none;\n",
              "    fill: var(--fill-color);\n",
              "    height: 32px;\n",
              "    padding: 0;\n",
              "    width: 32px;\n",
              "  }\n",
              "\n",
              "  .colab-df-quickchart:hover {\n",
              "    background-color: var(--hover-bg-color);\n",
              "    box-shadow: 0 1px 2px rgba(60, 64, 67, 0.3), 0 1px 3px 1px rgba(60, 64, 67, 0.15);\n",
              "    fill: var(--button-hover-fill-color);\n",
              "  }\n",
              "\n",
              "  .colab-df-quickchart-complete:disabled,\n",
              "  .colab-df-quickchart-complete:disabled:hover {\n",
              "    background-color: var(--disabled-bg-color);\n",
              "    fill: var(--disabled-fill-color);\n",
              "    box-shadow: none;\n",
              "  }\n",
              "\n",
              "  .colab-df-spinner {\n",
              "    border: 2px solid var(--fill-color);\n",
              "    border-color: transparent;\n",
              "    border-bottom-color: var(--fill-color);\n",
              "    animation:\n",
              "      spin 1s steps(1) infinite;\n",
              "  }\n",
              "\n",
              "  @keyframes spin {\n",
              "    0% {\n",
              "      border-color: transparent;\n",
              "      border-bottom-color: var(--fill-color);\n",
              "      border-left-color: var(--fill-color);\n",
              "    }\n",
              "    20% {\n",
              "      border-color: transparent;\n",
              "      border-left-color: var(--fill-color);\n",
              "      border-top-color: var(--fill-color);\n",
              "    }\n",
              "    30% {\n",
              "      border-color: transparent;\n",
              "      border-left-color: var(--fill-color);\n",
              "      border-top-color: var(--fill-color);\n",
              "      border-right-color: var(--fill-color);\n",
              "    }\n",
              "    40% {\n",
              "      border-color: transparent;\n",
              "      border-right-color: var(--fill-color);\n",
              "      border-top-color: var(--fill-color);\n",
              "    }\n",
              "    60% {\n",
              "      border-color: transparent;\n",
              "      border-right-color: var(--fill-color);\n",
              "    }\n",
              "    80% {\n",
              "      border-color: transparent;\n",
              "      border-right-color: var(--fill-color);\n",
              "      border-bottom-color: var(--fill-color);\n",
              "    }\n",
              "    90% {\n",
              "      border-color: transparent;\n",
              "      border-bottom-color: var(--fill-color);\n",
              "    }\n",
              "  }\n",
              "</style>\n",
              "\n",
              "  <script>\n",
              "    async function quickchart(key) {\n",
              "      const quickchartButtonEl =\n",
              "        document.querySelector('#' + key + ' button');\n",
              "      quickchartButtonEl.disabled = true;  // To prevent multiple clicks.\n",
              "      quickchartButtonEl.classList.add('colab-df-spinner');\n",
              "      try {\n",
              "        const charts = await google.colab.kernel.invokeFunction(\n",
              "            'suggestCharts', [key], {});\n",
              "      } catch (error) {\n",
              "        console.error('Error during call to suggestCharts:', error);\n",
              "      }\n",
              "      quickchartButtonEl.classList.remove('colab-df-spinner');\n",
              "      quickchartButtonEl.classList.add('colab-df-quickchart-complete');\n",
              "    }\n",
              "    (() => {\n",
              "      let quickchartButtonEl =\n",
              "        document.querySelector('#df-adf6591f-4a19-40dc-8a67-7e5dc02f1461 button');\n",
              "      quickchartButtonEl.style.display =\n",
              "        google.colab.kernel.accessAllowed ? 'block' : 'none';\n",
              "    })();\n",
              "  </script>\n",
              "</div>\n",
              "\n",
              "  <div id=\"id_064450e0-75a4-40b4-a10a-5affbaa0db28\">\n",
              "    <style>\n",
              "      .colab-df-generate {\n",
              "        background-color: #E8F0FE;\n",
              "        border: none;\n",
              "        border-radius: 50%;\n",
              "        cursor: pointer;\n",
              "        display: none;\n",
              "        fill: #1967D2;\n",
              "        height: 32px;\n",
              "        padding: 0 0 0 0;\n",
              "        width: 32px;\n",
              "      }\n",
              "\n",
              "      .colab-df-generate:hover {\n",
              "        background-color: #E2EBFA;\n",
              "        box-shadow: 0px 1px 2px rgba(60, 64, 67, 0.3), 0px 1px 3px 1px rgba(60, 64, 67, 0.15);\n",
              "        fill: #174EA6;\n",
              "      }\n",
              "\n",
              "      [theme=dark] .colab-df-generate {\n",
              "        background-color: #3B4455;\n",
              "        fill: #D2E3FC;\n",
              "      }\n",
              "\n",
              "      [theme=dark] .colab-df-generate:hover {\n",
              "        background-color: #434B5C;\n",
              "        box-shadow: 0px 1px 3px 1px rgba(0, 0, 0, 0.15);\n",
              "        filter: drop-shadow(0px 1px 2px rgba(0, 0, 0, 0.3));\n",
              "        fill: #FFFFFF;\n",
              "      }\n",
              "    </style>\n",
              "    <button class=\"colab-df-generate\" onclick=\"generateWithVariable('df')\"\n",
              "            title=\"Generate code using this dataframe.\"\n",
              "            style=\"display:none;\">\n",
              "\n",
              "  <svg xmlns=\"http://www.w3.org/2000/svg\" height=\"24px\"viewBox=\"0 0 24 24\"\n",
              "       width=\"24px\">\n",
              "    <path d=\"M7,19H8.4L18.45,9,17,7.55,7,17.6ZM5,21V16.75L18.45,3.32a2,2,0,0,1,2.83,0l1.4,1.43a1.91,1.91,0,0,1,.58,1.4,1.91,1.91,0,0,1-.58,1.4L9.25,21ZM18.45,9,17,7.55Zm-12,3A5.31,5.31,0,0,0,4.9,8.1,5.31,5.31,0,0,0,1,6.5,5.31,5.31,0,0,0,4.9,4.9,5.31,5.31,0,0,0,6.5,1,5.31,5.31,0,0,0,8.1,4.9,5.31,5.31,0,0,0,12,6.5,5.46,5.46,0,0,0,6.5,12Z\"/>\n",
              "  </svg>\n",
              "    </button>\n",
              "    <script>\n",
              "      (() => {\n",
              "      const buttonEl =\n",
              "        document.querySelector('#id_064450e0-75a4-40b4-a10a-5affbaa0db28 button.colab-df-generate');\n",
              "      buttonEl.style.display =\n",
              "        google.colab.kernel.accessAllowed ? 'block' : 'none';\n",
              "\n",
              "      buttonEl.onclick = () => {\n",
              "        google.colab.notebook.generateWithVariable('df');\n",
              "      }\n",
              "      })();\n",
              "    </script>\n",
              "  </div>\n",
              "\n",
              "    </div>\n",
              "  </div>\n"
            ]
          },
          "metadata": {},
          "execution_count": 2
        }
      ]
    },
    {
      "cell_type": "code",
      "source": [],
      "metadata": {
        "execution": {
          "iopub.status.busy": "2024-02-07T14:56:04.588938Z",
          "iopub.execute_input": "2024-02-07T14:56:04.589455Z",
          "iopub.status.idle": "2024-02-07T14:56:04.598228Z",
          "shell.execute_reply.started": "2024-02-07T14:56:04.589413Z",
          "shell.execute_reply": "2024-02-07T14:56:04.596950Z"
        },
        "trusted": true,
        "id": "0V8GtgQ757rk",
        "outputId": "54b9c79e-060d-4797-8e07-148e92a0787a"
      },
      "execution_count": null,
      "outputs": [
        {
          "execution_count": 3,
          "output_type": "execute_result",
          "data": {
            "text/plain": "Index(['Province/State', 'Country/Region', 'Lat', 'Long', 'Date', 'Confirmed',\n       'Deaths', 'Recovered', 'Active', 'WHO Region'],\n      dtype='object')"
          },
          "metadata": {}
        }
      ]
    },
    {
      "cell_type": "code",
      "source": [
        "align"
      ],
      "metadata": {
        "id": "nM8fWhQu57rl"
      },
      "execution_count": null,
      "outputs": []
    },
    {
      "cell_type": "markdown",
      "source": [
        "Questions to be answered :\n",
        "\n",
        "\n",
        "What is the total number of confirmed cases globally?\n",
        "\n",
        "How many countries are included in the dataset?\n",
        "\n",
        "Which country has the highest number of confirmed cases?\n",
        "\n",
        "What is the average number of deaths per day globally?\n",
        "\n",
        "How many cases were reported in a specific country on a particular date?\n",
        "\n",
        "What is the total number of recovered cases globally?\n",
        "\n",
        "How many active cases are there in a specific country on a particular date?\n",
        "\n",
        "Which country has the highest number of deaths?\n",
        "\n",
        "What is the overall mortality rate globally?\n",
        "\n",
        "How many cases were reported in a specific WHO region?\n",
        "\n",
        "What is the percentage of recovered cases compared to confirmed cases globally?\n",
        "\n",
        "Which province/state has the highest number of confirmed cases?\n",
        "\n",
        "What is the trend of confirmed cases over time globally?\n",
        "\n",
        "How many new cases were reported on a specific date globally?\n",
        "\n",
        "What is the average recovery rate in a specific WHO region?\n",
        "\n",
        "Which country has the highest number of active cases?\n",
        "\n",
        "What is the ratio of deaths to confirmed cases in a specific country?\n",
        "\n",
        "How many cases were reported in a specific country during a particular month?\n",
        "\n",
        "What is the average growth rate of confirmed cases globally?\n",
        "\n",
        "Which WHO region has the highest mortality rate?\n",
        "\n",
        "How many cases were reported in a specific province/state over time?\n",
        "\n",
        "What is the distribution of confirmed cases across different WHO regions?\n",
        "\n",
        "How many cases were reported in a specific country before and after a certain date?\n",
        "\n",
        "What is the percentage change in confirmed cases from one day to the next globally?\n",
        "\n",
        "Which country has the highest number of recovered cases?\n",
        "\n",
        "What is the trend of deaths over time globally?\n",
        "\n",
        "How many cases were reported in a specific country during a specific week?\n",
        "\n",
        "What is the average number of confirmed cases per day in a specific country?\n",
        "\n",
        "Which country has the highest recovery rate?\n",
        "\n",
        "What is the ratio of active cases to recovered cases in a specific country?\n",
        "\n",
        "How many cases were reported in a specific province/state on weekends?\n",
        "\n",
        "What is the average duration between confirmation and recovery in a specific country?\n",
        "\n",
        "What is the trend of active cases over time globally?\n",
        "\n",
        "How many cases were reported in a specific country with latitude and longitude coordinates?\n",
        "\n",
        "What is the correlation between confirmed cases and deaths in a specific country?\n",
        "\n",
        "Which province/state has the highest mortality rate?\n",
        "\n",
        "How many cases were reported in a specific country during a specific day of the week?\n",
        "\n",
        "What is the average duration between confirmation and death in a specific country?\n",
        "\n",
        "Which country has the highest growth rate of confirmed cases?\n",
        "\n",
        "How many cases were reported in a specific province/state on weekdays?\n",
        "\n",
        "What is the trend of recovered cases over time globally?\n",
        "\n",
        "How many cases were reported in a specific country with latitude and longitude coordinates during a specific week?\n",
        "\n",
        "What is the distribution of deaths across different WHO regions?\n",
        "\n",
        "How many cases were reported in a specific country with latitude and longitude coordinates during a specific month?\n",
        "\n",
        "What is the percentage change in deaths from one day to the next globally?\n",
        "\n",
        "How many cases were reported in a specific province/state with latitude and longitude coordinates over time?\n",
        "\n",
        "What is the correlation between confirmed cases and recovered cases in a specific country?\n",
        "\n",
        "How many cases were reported in a specific country with latitude and longitude coordinates during a specific day of the week?\n",
        "\n",
        "What is the average duration between confirmation and recovery in a specific WHO region?\n",
        "Which province/state has the highest recovery rate?"
      ],
      "metadata": {
        "id": "hN8nSUFT57rm"
      }
    },
    {
      "cell_type": "markdown",
      "source": [
        "What is the total number of confirmed cases globally?"
      ],
      "metadata": {
        "id": "ZfTTsHXJ7HG8"
      }
    },
    {
      "cell_type": "code",
      "source": [
        "total_confirmed_cases = df['Confirmed'].sum()\n",
        "print(\"Total confirmed cases globally:\", total_confirmed_cases)\n"
      ],
      "metadata": {
        "id": "IkwxlSve7Hhv",
        "outputId": "6ff251a1-c62e-4ef3-a6e2-95b564908133",
        "colab": {
          "base_uri": "https://localhost:8080/"
        }
      },
      "execution_count": 3,
      "outputs": [
        {
          "output_type": "stream",
          "name": "stdout",
          "text": [
            "Total confirmed cases globally: 828508482\n"
          ]
        }
      ]
    },
    {
      "cell_type": "markdown",
      "source": [
        "How many countries are included in the dataset?"
      ],
      "metadata": {
        "id": "IPUxlplN7IE5"
      }
    },
    {
      "cell_type": "code",
      "source": [
        "total_countries = df['Country/Region'].nunique()\n",
        "print(\"Total countries included in the dataset:\", total_countries)\n"
      ],
      "metadata": {
        "id": "aaHmlsfW7IYc",
        "outputId": "491c9747-3a42-475a-f96f-3434fb0076d2",
        "colab": {
          "base_uri": "https://localhost:8080/"
        }
      },
      "execution_count": 4,
      "outputs": [
        {
          "output_type": "stream",
          "name": "stdout",
          "text": [
            "Total countries included in the dataset: 187\n"
          ]
        }
      ]
    },
    {
      "cell_type": "markdown",
      "source": [
        "Which country has the highest number of confirmed cases?"
      ],
      "metadata": {
        "id": "Al0qE1757Iq7"
      }
    },
    {
      "cell_type": "code",
      "source": [
        "country_highest_confirmed_cases = df.groupby('Country/Region')['Confirmed'].max().idxmax()\n",
        "print(\"Country with the highest number of confirmed cases:\", country_highest_confirmed_cases)\n"
      ],
      "metadata": {
        "id": "BLOQD-2N7JKr",
        "outputId": "67e5a6ce-0827-4c79-e6ff-aa2580857d9c",
        "colab": {
          "base_uri": "https://localhost:8080/"
        }
      },
      "execution_count": 5,
      "outputs": [
        {
          "output_type": "stream",
          "name": "stdout",
          "text": [
            "Country with the highest number of confirmed cases: US\n"
          ]
        }
      ]
    },
    {
      "cell_type": "markdown",
      "source": [
        "What is the average number of deaths per day globally?"
      ],
      "metadata": {
        "id": "SKORGUYo7Jw-"
      }
    },
    {
      "cell_type": "code",
      "source": [
        "average_deaths_per_day = df.groupby('Date')['Deaths'].sum().mean()\n",
        "print(\"Average number of deaths per day globally:\", average_deaths_per_day)\n"
      ],
      "metadata": {
        "id": "QPlNZhWG7KeA",
        "outputId": "2e1cd5b2-5600-4120-f92e-82c583f33e47",
        "colab": {
          "base_uri": "https://localhost:8080/"
        }
      },
      "execution_count": 6,
      "outputs": [
        {
          "output_type": "stream",
          "name": "stdout",
          "text": [
            "Average number of deaths per day globally: 230770.76063829788\n"
          ]
        }
      ]
    },
    {
      "cell_type": "markdown",
      "source": [
        "How many cases were reported in a specific country on a particular date?"
      ],
      "metadata": {
        "id": "c85QPlb37Kzo"
      }
    },
    {
      "cell_type": "code",
      "source": [
        "country = 'US'\n",
        "date = '2020-07-27'\n",
        "cases_reported = df[(df['Country/Region'] == country) & (df['Date'] == date)]['Confirmed'].sum()\n",
        "print(f\"Cases reported in {country} on {date}: {cases_reported}\")\n"
      ],
      "metadata": {
        "id": "AfY6l4R-7LLk",
        "outputId": "71a695f3-1989-41b3-945d-6ef1f9dc941b",
        "colab": {
          "base_uri": "https://localhost:8080/"
        }
      },
      "execution_count": 7,
      "outputs": [
        {
          "output_type": "stream",
          "name": "stdout",
          "text": [
            "Cases reported in US on 2020-07-27: 4290259\n"
          ]
        }
      ]
    },
    {
      "cell_type": "markdown",
      "source": [
        "What is the total number of recovered cases globally?"
      ],
      "metadata": {
        "id": "df5DX_pK7Lel"
      }
    },
    {
      "cell_type": "code",
      "source": [
        "total_recovered_cases = df['Recovered'].sum()\n",
        "print(\"Total recovered cases globally:\", total_recovered_cases)\n"
      ],
      "metadata": {
        "id": "9OKMcvnq7MTM",
        "outputId": "333f9d2e-12cb-4a63-f6aa-64fb74bb2425",
        "colab": {
          "base_uri": "https://localhost:8080/"
        }
      },
      "execution_count": 8,
      "outputs": [
        {
          "output_type": "stream",
          "name": "stdout",
          "text": [
            "Total recovered cases globally: 388408229\n"
          ]
        }
      ]
    },
    {
      "cell_type": "markdown",
      "source": [
        "How many active cases are there in a specific country on a particular date?"
      ],
      "metadata": {
        "id": "FpTyZhr47Moj"
      }
    },
    {
      "cell_type": "code",
      "source": [
        "country = 'China'\n",
        "date = '2020-07-27'\n",
        "active_cases = df[(df['Country/Region'] == country) & (df['Date'] == date)]['Active'].sum()\n",
        "print(f\"Active cases in {country} on {date}: {active_cases}\")"
      ],
      "metadata": {
        "id": "9IDMnvDR7NBB",
        "outputId": "5680ed66-cea4-4463-ac5b-ef47254fc626",
        "colab": {
          "base_uri": "https://localhost:8080/"
        }
      },
      "execution_count": 9,
      "outputs": [
        {
          "output_type": "stream",
          "name": "stdout",
          "text": [
            "Active cases in China on 2020-07-27: 3258\n"
          ]
        }
      ]
    },
    {
      "cell_type": "markdown",
      "source": [
        "Which country has the highest number of deaths?"
      ],
      "metadata": {
        "id": "U7t6uim37NV1"
      }
    },
    {
      "cell_type": "code",
      "source": [
        "country_with_highest_deaths = df.groupby('Country/Region')['Deaths'].sum().idxmax()\n",
        "print(\"Country with the highest number of deaths:\", country_with_highest_deaths)\n"
      ],
      "metadata": {
        "id": "c082710A7NuD",
        "outputId": "392da774-6fc1-4a07-a7e2-e68631c4331c",
        "colab": {
          "base_uri": "https://localhost:8080/"
        }
      },
      "execution_count": 10,
      "outputs": [
        {
          "output_type": "stream",
          "name": "stdout",
          "text": [
            "Country with the highest number of deaths: US\n"
          ]
        }
      ]
    },
    {
      "cell_type": "markdown",
      "source": [
        "What is the overall mortality rate globally?"
      ],
      "metadata": {
        "id": "PjJXeWJZ-4Ms"
      }
    },
    {
      "cell_type": "code",
      "source": [
        "overall_mortality_rate = (df['Deaths'].sum() / df['Confirmed'].sum()) * 100\n",
        "print(\"Overall mortality rate globally:\", overall_mortality_rate, \"%\")\n"
      ],
      "metadata": {
        "id": "1ec608ny-4md",
        "outputId": "860f9022-8274-4a4c-f8eb-176d162bc2c5",
        "colab": {
          "base_uri": "https://localhost:8080/"
        }
      },
      "execution_count": 11,
      "outputs": [
        {
          "output_type": "stream",
          "name": "stdout",
          "text": [
            "Overall mortality rate globally: 5.23650680018023 %\n"
          ]
        }
      ]
    },
    {
      "cell_type": "markdown",
      "source": [
        "How many cases were reported in a specific WHO region?"
      ],
      "metadata": {
        "id": "s57ubaTL-43Z"
      }
    },
    {
      "cell_type": "code",
      "source": [
        "who_region = 'Europe'\n",
        "cases_in_who_region = df[df['WHO Region'] == who_region]['Confirmed'].sum()\n",
        "print(f\"Cases reported in {who_region}: {cases_in_who_region}\")\n"
      ],
      "metadata": {
        "id": "gaZCjFTW-5ec",
        "outputId": "a07bd5ed-074e-4732-ff9d-87c2adce1f50",
        "colab": {
          "base_uri": "https://localhost:8080/"
        }
      },
      "execution_count": 12,
      "outputs": [
        {
          "output_type": "stream",
          "name": "stdout",
          "text": [
            "Cases reported in Europe: 248879793\n"
          ]
        }
      ]
    },
    {
      "cell_type": "markdown",
      "source": [
        "What is the percentage of recovered cases compared to confirmed cases globally?"
      ],
      "metadata": {
        "id": "yKJxdfdw-6g2"
      }
    },
    {
      "cell_type": "code",
      "source": [
        "recovered_percentage = (total_recovered_cases / total_confirmed_cases) * 100\n",
        "print(\"Percentage of recovered cases compared to confirmed cases globally:\", recovered_percentage, \"%\")\n"
      ],
      "metadata": {
        "id": "eTw6ssMJ-68u",
        "outputId": "a5daf4ce-94cc-4e76-d565-8077d80859d8",
        "colab": {
          "base_uri": "https://localhost:8080/"
        }
      },
      "execution_count": 13,
      "outputs": [
        {
          "output_type": "stream",
          "name": "stdout",
          "text": [
            "Percentage of recovered cases compared to confirmed cases globally: 46.88041672939686 %\n"
          ]
        }
      ]
    },
    {
      "cell_type": "markdown",
      "source": [
        "Which province/state has the highest number of confirmed cases?"
      ],
      "metadata": {
        "id": "tdWX9CJX-7RS"
      }
    },
    {
      "cell_type": "code",
      "source": [
        "province_with_highest_cases = df.groupby('Province/State')['Confirmed'].sum().idxmax()\n",
        "print(\"Province/State with the highest number of confirmed cases:\", province_with_highest_cases)\n"
      ],
      "metadata": {
        "id": "SoFj8veX-7tr",
        "outputId": "566e7d5c-7894-403f-f6f5-2254fa1496c4",
        "colab": {
          "base_uri": "https://localhost:8080/"
        }
      },
      "execution_count": 14,
      "outputs": [
        {
          "output_type": "stream",
          "name": "stdout",
          "text": [
            "Province/State with the highest number of confirmed cases: Hubei\n"
          ]
        }
      ]
    },
    {
      "cell_type": "markdown",
      "source": [
        "What is the trend of confirmed cases over time globally?"
      ],
      "metadata": {
        "id": "_sqbw8Kf-8Bs"
      }
    },
    {
      "cell_type": "code",
      "source": [
        "confirmed_cases_trend = df.groupby('Date')['Confirmed'].sum()"
      ],
      "metadata": {
        "id": "CrFapJWB-8bP"
      },
      "execution_count": 16,
      "outputs": []
    },
    {
      "cell_type": "markdown",
      "source": [
        "How many new cases were reported on a specific date globally?"
      ],
      "metadata": {
        "id": "sITnf9lu-9Og"
      }
    },
    {
      "cell_type": "code",
      "source": [
        "date = '2020-07-27'\n",
        "new_cases_reported = df[df['Date'] == date]['Confirmed'].sum()\n",
        "print(\"New cases reported on\", date, \"globally:\", new_cases_reported)"
      ],
      "metadata": {
        "id": "RkF0a0JQ-9qY",
        "outputId": "a40e5421-f2e0-4ece-fa35-26dc70f62891",
        "colab": {
          "base_uri": "https://localhost:8080/"
        }
      },
      "execution_count": 17,
      "outputs": [
        {
          "output_type": "stream",
          "name": "stdout",
          "text": [
            "New cases reported on 2020-07-27 globally: 16480485\n"
          ]
        }
      ]
    },
    {
      "cell_type": "markdown",
      "source": [
        "What is the average recovery rate in a specific WHO region?"
      ],
      "metadata": {
        "id": "46XoyGyp--BB"
      }
    },
    {
      "cell_type": "code",
      "source": [
        "who_region = 'Africa'\n",
        "average_recovery_rate = (df[df['WHO Region'] == who_region]['Recovered'].sum() / df[df['WHO Region'] == who_region]['Confirmed'].sum()) * 100\n",
        "print(\"Average recovery rate in\", who_region, \":\", average_recovery_rate, \"%\")"
      ],
      "metadata": {
        "id": "Wy1Ytuyi--as",
        "outputId": "09d984c3-5e8b-4d36-ffb8-013e21b50b99",
        "colab": {
          "base_uri": "https://localhost:8080/"
        }
      },
      "execution_count": 18,
      "outputs": [
        {
          "output_type": "stream",
          "name": "stdout",
          "text": [
            "Average recovery rate in Africa : 51.36664309972725 %\n"
          ]
        }
      ]
    },
    {
      "cell_type": "markdown",
      "source": [
        "Which country has the highest number of active cases?"
      ],
      "metadata": {
        "id": "YCTgSnQD--vH"
      }
    },
    {
      "cell_type": "code",
      "source": [
        "country_with_highest_active_cases = df.groupby('Country/Region')['Active'].sum().idxmax()\n",
        "print(\"Country with the highest number of active cases:\", country_with_highest_active_cases)\n"
      ],
      "metadata": {
        "id": "ZojXrIK5-_HE",
        "outputId": "06347b7d-79c9-45ed-8a30-1dea9bc75403",
        "colab": {
          "base_uri": "https://localhost:8080/"
        }
      },
      "execution_count": 19,
      "outputs": [
        {
          "output_type": "stream",
          "name": "stdout",
          "text": [
            "Country with the highest number of active cases: US\n"
          ]
        }
      ]
    },
    {
      "cell_type": "markdown",
      "source": [
        "What is the ratio of deaths to confirmed cases in a specific country?"
      ],
      "metadata": {
        "id": "itaZpiUE-_rI"
      }
    },
    {
      "cell_type": "code",
      "source": [
        "country = 'Italy'\n",
        "ratio_deaths_to_confirmed = (df[df['Country/Region'] == country]['Deaths'].sum() / df[df['Country/Region'] == country]['Confirmed'].sum()) * 100\n",
        "print(\"Ratio of deaths to confirmed cases in\", country, \":\", ratio_deaths_to_confirmed, \"%\")\n"
      ],
      "metadata": {
        "id": "3Y-WIiFp_AAg",
        "outputId": "96e137cf-b942-42ea-9bae-d2bdef17cc70",
        "colab": {
          "base_uri": "https://localhost:8080/"
        }
      },
      "execution_count": 20,
      "outputs": [
        {
          "output_type": "stream",
          "name": "stdout",
          "text": [
            "Ratio of deaths to confirmed cases in Italy : 13.86314039426595 %\n"
          ]
        }
      ]
    },
    {
      "cell_type": "markdown",
      "source": [
        "How many cases were reported in a specific country during a particular month?"
      ],
      "metadata": {
        "id": "TK1l2PD3_AXS"
      }
    },
    {
      "cell_type": "code",
      "source": [
        "country = 'US'\n",
        "month = '2020-07'\n",
        "cases_in_month = df[(df['Country/Region'] == country) & (df['Date'].str.startswith(month))]['Confirmed'].sum()\n",
        "print(f\"Cases reported in {country} during {month}: {cases_in_month}\")\n"
      ],
      "metadata": {
        "id": "rzcA8TGI_Ap9",
        "outputId": "d31584ca-5851-4cd5-a0fa-11ba1724cd80",
        "colab": {
          "base_uri": "https://localhost:8080/"
        }
      },
      "execution_count": 21,
      "outputs": [
        {
          "output_type": "stream",
          "name": "stdout",
          "text": [
            "Cases reported in US during 2020-07: 93360473\n"
          ]
        }
      ]
    },
    {
      "cell_type": "markdown",
      "source": [
        "What is the average growth rate of confirmed cases globally?"
      ],
      "metadata": {
        "id": "IwNLTtyn_A9T"
      }
    },
    {
      "cell_type": "code",
      "source": [
        "confirmed_cases_growth_rate = df.groupby('Date')['Confirmed'].sum().pct_change().mean() * 100\n",
        "print(\"Average growth rate of confirmed cases globally:\", confirmed_cases_growth_rate, \"%\")\n"
      ],
      "metadata": {
        "id": "CTETMjsB_Bc5",
        "outputId": "9be966ca-3b76-4a0f-dc77-995e72da4d44",
        "colab": {
          "base_uri": "https://localhost:8080/"
        }
      },
      "execution_count": 22,
      "outputs": [
        {
          "output_type": "stream",
          "name": "stdout",
          "text": [
            "Average growth rate of confirmed cases globally: 6.0521514744502705 %\n"
          ]
        }
      ]
    },
    {
      "cell_type": "markdown",
      "source": [
        "Which WHO region has the highest mortality rate?"
      ],
      "metadata": {
        "id": "8D5JrWv-_Bus"
      }
    },
    {
      "cell_type": "code",
      "source": [
        "who_region_highest_mortality_rate = df.groupby('WHO Region').apply(lambda x: (x['Deaths'].sum() / x['Confirmed'].sum()) * 100).idxmax()\n",
        "print(\"WHO Region with the highest mortality rate:\", who_region_highest_mortality_rate)\n"
      ],
      "metadata": {
        "id": "AyIBxMAZ_CEP",
        "outputId": "37a376c3-9097-4fab-ad86-8ac4f76f0c00",
        "colab": {
          "base_uri": "https://localhost:8080/"
        }
      },
      "execution_count": 23,
      "outputs": [
        {
          "output_type": "stream",
          "name": "stdout",
          "text": [
            "WHO Region with the highest mortality rate: Europe\n"
          ]
        }
      ]
    },
    {
      "cell_type": "markdown",
      "source": [
        "How many cases were reported in a specific province/state over time?"
      ],
      "metadata": {
        "id": "wpLPRBAA_CVv"
      }
    },
    {
      "cell_type": "code",
      "source": [
        "province = 'New York'\n",
        "cases_over_time = df[df['Province/State'] == province].groupby('Date')['Confirmed'].sum()"
      ],
      "metadata": {
        "id": "UfYtMk10_C0G"
      },
      "execution_count": 25,
      "outputs": []
    },
    {
      "cell_type": "markdown",
      "source": [
        "What is the distribution of confirmed cases across different WHO regions?"
      ],
      "metadata": {
        "id": "pUCZNvy-_DF0"
      }
    },
    {
      "cell_type": "code",
      "source": [
        "distribution_confirmed_cases_by_region = df.groupby('WHO Region')['Confirmed'].sum()\n",
        "print(\"Distribution of confirmed cases across different WHO regions:\")\n",
        "print(distribution_confirmed_cases_by_region)\n"
      ],
      "metadata": {
        "id": "wEPasrc-_DhV",
        "outputId": "fb12529d-6cb8-4ff3-e81e-dd5602512a10",
        "colab": {
          "base_uri": "https://localhost:8080/"
        }
      },
      "execution_count": 26,
      "outputs": [
        {
          "output_type": "stream",
          "name": "stdout",
          "text": [
            "Distribution of confirmed cases across different WHO regions:\n",
            "WHO Region\n",
            "Africa                    21791827\n",
            "Americas                 402261194\n",
            "Eastern Mediterranean     74082892\n",
            "Europe                   248879793\n",
            "South-East Asia           55118365\n",
            "Western Pacific           26374411\n",
            "Name: Confirmed, dtype: int64\n"
          ]
        }
      ]
    },
    {
      "cell_type": "markdown",
      "source": [
        "How many cases were reported in a specific country before and after a certain date?"
      ],
      "metadata": {
        "id": "B1lAwhGD_Dza"
      }
    },
    {
      "cell_type": "code",
      "source": [
        "country = 'China'\n",
        "date = '2020-06-30'\n",
        "cases_before_date = df[(df['Country/Region'] == country) & (df['Date'] < date)]['Confirmed'].sum()\n",
        "cases_after_date = df[(df['Country/Region'] == country) & (df['Date'] >= date)]['Confirmed'].sum()\n",
        "print(f\"Cases reported in {country} before {date}: {cases_before_date}\")\n",
        "print(f\"Cases reported in {country} after {date}: {cases_after_date}\")\n"
      ],
      "metadata": {
        "id": "RX6l55WV_ELY",
        "outputId": "3abe9eca-d35a-4fbb-949c-009a7a3f24a6",
        "colab": {
          "base_uri": "https://localhost:8080/"
        }
      },
      "execution_count": 27,
      "outputs": [
        {
          "output_type": "stream",
          "name": "stdout",
          "text": [
            "Cases reported in China before 2020-06-30: 11741621\n",
            "Cases reported in China after 2020-06-30: 2390381\n"
          ]
        }
      ]
    },
    {
      "cell_type": "markdown",
      "source": [
        "What is the percentage change in confirmed cases from one day to the next globally?"
      ],
      "metadata": {
        "id": "GleiHaTd_EhI"
      }
    },
    {
      "cell_type": "code",
      "source": [
        "percentage_change_confirmed_cases = df.groupby('Date')['Confirmed'].sum().pct_change().mean() * 100\n",
        "print(\"Percentage change in confirmed cases from one day to the next globally:\", percentage_change_confirmed_cases, \"%\")\n"
      ],
      "metadata": {
        "id": "muk970_F_FBX",
        "outputId": "2eb5093e-436d-472a-83a2-8f752c601752",
        "colab": {
          "base_uri": "https://localhost:8080/"
        }
      },
      "execution_count": 28,
      "outputs": [
        {
          "output_type": "stream",
          "name": "stdout",
          "text": [
            "Percentage change in confirmed cases from one day to the next globally: 6.0521514744502705 %\n"
          ]
        }
      ]
    },
    {
      "cell_type": "markdown",
      "source": [
        "Which country has the highest number of recovered cases?"
      ],
      "metadata": {
        "id": "PM3vztZp_FSW"
      }
    },
    {
      "cell_type": "code",
      "source": [
        "country_with_highest_recovered_cases = df.groupby('Country/Region')['Recovered'].sum().idxmax()\n",
        "print(\"Country with the highest number of recovered cases:\", country_with_highest_recovered_cases)\n"
      ],
      "metadata": {
        "id": "zlmSkcgo_F0A",
        "outputId": "c939c273-cdeb-40b5-9135-ec8e3c5c644f",
        "colab": {
          "base_uri": "https://localhost:8080/"
        }
      },
      "execution_count": 29,
      "outputs": [
        {
          "output_type": "stream",
          "name": "stdout",
          "text": [
            "Country with the highest number of recovered cases: US\n"
          ]
        }
      ]
    },
    {
      "cell_type": "markdown",
      "source": [
        "What is the trend of deaths over time globally?"
      ],
      "metadata": {
        "id": "ecg9J48Z_GIK"
      }
    },
    {
      "cell_type": "code",
      "source": [
        "deaths_trend = df.groupby('Date')['Deaths'].sum()"
      ],
      "metadata": {
        "id": "s4Gv3U5P_Goy"
      },
      "execution_count": 31,
      "outputs": []
    },
    {
      "cell_type": "markdown",
      "source": [
        "How many cases were reported in a specific country during a specific week?"
      ],
      "metadata": {
        "id": "IBMgPS3J_G6P"
      }
    },
    {
      "cell_type": "code",
      "source": [
        "import datetime\n",
        "country = 'India'\n",
        "start_date = '2020-07-20'\n",
        "end_date = '2020-07-26'\n",
        "start = datetime.datetime.strptime(start_date, \"%Y-%m-%d\")\n",
        "end = datetime.datetime.strptime(end_date, \"%Y-%m-%d\")\n",
        "cases_during_week = df[(df['Country/Region'] == country) & (df['Date'] >= start_date) & (df['Date'] <= end_date)]['Confirmed'].sum()\n",
        "print(f\"Cases reported in {country} during {start_date} to {end_date}: {cases_during_week}\")"
      ],
      "metadata": {
        "id": "xNz0Bhpi_Hc7",
        "outputId": "e013a89d-950f-4070-eea8-43c46e78c077",
        "colab": {
          "base_uri": "https://localhost:8080/"
        }
      },
      "execution_count": 32,
      "outputs": [
        {
          "output_type": "stream",
          "name": "stdout",
          "text": [
            "Cases reported in India during 2020-07-20 to 2020-07-26: 9033597\n"
          ]
        }
      ]
    },
    {
      "cell_type": "markdown",
      "source": [
        "What is the average number of confirmed cases per day in a specific country?"
      ],
      "metadata": {
        "id": "sTGbWvn0_Hub"
      }
    },
    {
      "cell_type": "code",
      "source": [
        "country = 'Brazil'\n",
        "average_confirmed_cases_per_day = df[df['Country/Region'] == country].groupby('Date')['Confirmed'].sum().mean()\n",
        "print(\"Average number of confirmed cases per day in\", country, \":\", average_confirmed_cases_per_day)\n"
      ],
      "metadata": {
        "id": "ZRDdK5jb_IGz",
        "outputId": "c9e0f959-8c60-4449-f5d4-41c73b8fa6a8",
        "colab": {
          "base_uri": "https://localhost:8080/"
        }
      },
      "execution_count": 33,
      "outputs": [
        {
          "output_type": "stream",
          "name": "stdout",
          "text": [
            "Average number of confirmed cases per day in Brazil : 476196.6329787234\n"
          ]
        }
      ]
    },
    {
      "cell_type": "markdown",
      "source": [
        "Which country has the highest recovery rate?"
      ],
      "metadata": {
        "id": "5PIdlIhI_Ic2"
      }
    },
    {
      "cell_type": "code",
      "source": [
        "country_with_highest_recovery_rate = df.groupby('Country/Region').apply(lambda x: (x['Recovered'].sum() / x['Confirmed'].sum()) * 100).idxmax()\n",
        "print(\"Country with the highest recovery rate:\", country_with_highest_recovery_rate)\n"
      ],
      "metadata": {
        "id": "HaOH5qrV09Dn",
        "outputId": "66f60b0a-4019-484d-9aad-196779c4223b",
        "colab": {
          "base_uri": "https://localhost:8080/"
        }
      },
      "execution_count": 34,
      "outputs": [
        {
          "output_type": "stream",
          "name": "stdout",
          "text": [
            "Country with the highest recovery rate: Liechtenstein\n"
          ]
        }
      ]
    },
    {
      "cell_type": "markdown",
      "source": [
        "What is the ratio of active cases to recovered cases in a specific country?"
      ],
      "metadata": {
        "id": "yVpfbtyu1P3W"
      }
    },
    {
      "cell_type": "code",
      "source": [
        "country = 'US'\n",
        "ratio_active_to_recovered = (df[df['Country/Region'] == country]['Active'].sum() / df[df['Country/Region'] == country]['Recovered'].sum()) * 100\n",
        "print(\"Ratio of active cases to recovered cases in\", country, \":\", ratio_active_to_recovered, \"%\")\n"
      ],
      "metadata": {
        "id": "9yN45NGT1QQY",
        "outputId": "b718f1ad-3ef8-48fc-c748-bf7bdd187db8",
        "colab": {
          "base_uri": "https://localhost:8080/"
        }
      },
      "execution_count": 35,
      "outputs": [
        {
          "output_type": "stream",
          "name": "stdout",
          "text": [
            "Ratio of active cases to recovered cases in US : 278.56540409191877 %\n"
          ]
        }
      ]
    },
    {
      "cell_type": "markdown",
      "source": [
        "How many cases were reported in a specific province/state on weekends?"
      ],
      "metadata": {
        "id": "iFCQrWkt1QkH"
      }
    },
    {
      "cell_type": "code",
      "source": [
        "province = 'California'\n",
        "weekend_days = ['Saturday', 'Sunday']\n",
        "cases_on_weekends = df[(df['Province/State'] == province) & (pd.to_datetime(df['Date']).dt.day_name().isin(weekend_days))]['Confirmed'].sum()\n",
        "print(f\"Cases reported in {province} on weekends:\", cases_on_weekends)\n"
      ],
      "metadata": {
        "id": "orQGw5Uq1Q8F",
        "outputId": "5d5e7b5d-9821-4785-ebf3-b97dd02b9bf9",
        "colab": {
          "base_uri": "https://localhost:8080/"
        }
      },
      "execution_count": 36,
      "outputs": [
        {
          "output_type": "stream",
          "name": "stdout",
          "text": [
            "Cases reported in California on weekends: 0\n"
          ]
        }
      ]
    },
    {
      "cell_type": "markdown",
      "source": [
        "What is the average duration between confirmation and recovery in a specific country?"
      ],
      "metadata": {
        "id": "0HW7zWwX1RR9"
      }
    },
    {
      "cell_type": "code",
      "source": [
        "ountry = 'Italy'\n",
        "average_duration_confirmation_recovery = (df[df['Country/Region'] == country]['Recovered'].mean() - df[df['Country/Region'] == country]['Confirmed'].mean())\n",
        "print(\"Average duration between confirmation and recovery in\", country, \":\", average_duration_confirmation_recovery)\n"
      ],
      "metadata": {
        "id": "tmpNqMap1Rx-",
        "outputId": "b850d665-886b-4508-d263-c1ec51b62244",
        "colab": {
          "base_uri": "https://localhost:8080/"
        }
      },
      "execution_count": 37,
      "outputs": [
        {
          "output_type": "stream",
          "name": "stdout",
          "text": [
            "Average duration between confirmation and recovery in US : -893577.2978723403\n"
          ]
        }
      ]
    },
    {
      "cell_type": "markdown",
      "source": [
        "What is the trend of active cases over time globally?"
      ],
      "metadata": {
        "id": "gBOz3LPR1SaX"
      }
    },
    {
      "cell_type": "code",
      "source": [
        "active_cases_trend = df.groupby('Date')['Active'].sum()"
      ],
      "metadata": {
        "id": "aRm1Ym2v1S4n"
      },
      "execution_count": 38,
      "outputs": []
    },
    {
      "cell_type": "markdown",
      "source": [
        "How many cases were reported in a specific country with latitude and longitude coordinates?"
      ],
      "metadata": {
        "id": "JPOa1hhp1TOK"
      }
    },
    {
      "cell_type": "code",
      "source": [
        "country = 'China'\n",
        "cases_with_coordinates = df[(df['Country/Region'] == country) & (~df['Lat'].isnull()) & (~df['Long'].isnull())]['Confirmed'].sum()\n",
        "print(f\"Cases reported in {country} with latitude and longitude coordinates:\", cases_with_coordinates)\n"
      ],
      "metadata": {
        "id": "5_8R6dcR1UAD",
        "outputId": "44cf3828-934f-4d11-e1e0-0bf1efd9364a",
        "colab": {
          "base_uri": "https://localhost:8080/"
        }
      },
      "execution_count": 39,
      "outputs": [
        {
          "output_type": "stream",
          "name": "stdout",
          "text": [
            "Cases reported in China with latitude and longitude coordinates: 14132002\n"
          ]
        }
      ]
    },
    {
      "cell_type": "markdown",
      "source": [
        "What is the correlation between confirmed cases and deaths in a specific country?"
      ],
      "metadata": {
        "id": "jcG2HrP71UZD"
      }
    },
    {
      "cell_type": "code",
      "source": [
        "country = 'US'\n",
        "correlation_confirmed_deaths = df[df['Country/Region'] == country][['Confirmed', 'Deaths']].corr().iloc[0, 1]\n",
        "print(\"Correlation between confirmed cases and deaths in\", country, \":\", correlation_confirmed_deaths)\n"
      ],
      "metadata": {
        "id": "tPdSt4wU1Uv9",
        "outputId": "728ed49a-b994-4ce9-d6e6-04e31951133d",
        "colab": {
          "base_uri": "https://localhost:8080/"
        }
      },
      "execution_count": 40,
      "outputs": [
        {
          "output_type": "stream",
          "name": "stdout",
          "text": [
            "Correlation between confirmed cases and deaths in US : 0.9637532715194196\n"
          ]
        }
      ]
    },
    {
      "cell_type": "markdown",
      "source": [
        "Which province/state has the highest mortality rate?"
      ],
      "metadata": {
        "id": "5GxV5xDp1VIc"
      }
    },
    {
      "cell_type": "code",
      "source": [
        "province_with_highest_mortality_rate = df.groupby('Province/State').apply(lambda x: (x['Deaths'].sum() / x['Confirmed'].sum()) * 100).idxmax()\n",
        "print(\"Province/State with the highest mortality rate:\", province_with_highest_mortality_rate)\n"
      ],
      "metadata": {
        "id": "0wQidd6l1VsY",
        "outputId": "458b1c12-9436-4152-f7f8-f7d6babcc2f4",
        "colab": {
          "base_uri": "https://localhost:8080/"
        }
      },
      "execution_count": 41,
      "outputs": [
        {
          "output_type": "stream",
          "name": "stdout",
          "text": [
            "Province/State with the highest mortality rate: Sint Maarten\n"
          ]
        }
      ]
    },
    {
      "cell_type": "markdown",
      "source": [
        "How many cases were reported in a specific country during a specific day of the week?"
      ],
      "metadata": {
        "id": "VUzvEeLu1WVh"
      }
    },
    {
      "cell_type": "code",
      "source": [
        "country = 'Germany'\n",
        "day_of_week = 'Monday'\n",
        "cases_on_specific_day_of_week = df[(df['Country/Region'] == country) & (pd.to_datetime(df['Date']).dt.day_name() == day_of_week)]['Confirmed'].sum()\n",
        "print(f\"Cases reported in {country} on {day_of_week}s:\", cases_on_specific_day_of_week)\n"
      ],
      "metadata": {
        "id": "nUux3gvQ1Ww3",
        "outputId": "b4df6e28-e217-4e2f-cfb5-8dca28bef4bb",
        "colab": {
          "base_uri": "https://localhost:8080/"
        }
      },
      "execution_count": 42,
      "outputs": [
        {
          "output_type": "stream",
          "name": "stdout",
          "text": [
            "Cases reported in Germany on Mondays: 3092631\n"
          ]
        }
      ]
    },
    {
      "cell_type": "markdown",
      "source": [
        "What is the average duration between confirmation and death in a specific country?"
      ],
      "metadata": {
        "id": "gi18dCdi1XHx"
      }
    },
    {
      "cell_type": "code",
      "source": [
        "country = 'Spain'\n",
        "average_duration_confirmation_death = (df[df['Country/Region'] == country]['Deaths'].mean() - df[df['Country/Region'] == country]['Confirmed'].mean())\n",
        "print(\"Average duration between confirmation and death in\", country, \":\", average_duration_confirmation_death)\n"
      ],
      "metadata": {
        "id": "HZT2CTLt1X25",
        "outputId": "8dee641d-4a44-44f2-d322-cb54e267dbd9",
        "colab": {
          "base_uri": "https://localhost:8080/"
        }
      },
      "execution_count": 43,
      "outputs": [
        {
          "output_type": "stream",
          "name": "stdout",
          "text": [
            "Average duration between confirmation and death in Spain : -129633.0585106383\n"
          ]
        }
      ]
    },
    {
      "cell_type": "markdown",
      "source": [
        "Which country has the highest growth rate of confirmed cases?"
      ],
      "metadata": {
        "id": "0fgQz1LI1YMx"
      }
    },
    {
      "cell_type": "code",
      "source": [
        "country_with_highest_growth_rate = df.groupby('Country/Region')['Confirmed'].apply(lambda x: x.pct_change().mean()).idxmax()\n",
        "print(\"Country with the highest growth rate of confirmed cases:\", country_with_highest_growth_rate)\n"
      ],
      "metadata": {
        "id": "Yd3VckR31YmR",
        "outputId": "f7401d38-064a-44db-ff50-9f9a10c835b0",
        "colab": {
          "base_uri": "https://localhost:8080/"
        }
      },
      "execution_count": 44,
      "outputs": [
        {
          "output_type": "stream",
          "name": "stdout",
          "text": [
            "Country with the highest growth rate of confirmed cases: Afghanistan\n"
          ]
        }
      ]
    },
    {
      "cell_type": "markdown",
      "source": [
        "How many cases were reported in a specific province/state on weekdays?"
      ],
      "metadata": {
        "id": "wvQoG2E91Y8K"
      }
    },
    {
      "cell_type": "code",
      "source": [
        "province = 'Ontario'\n",
        "weekday_days = ['Monday', 'Tuesday', 'Wednesday', 'Thursday', 'Friday']\n",
        "cases_on_weekdays = df[(df['Province/State'] == province) & (pd.to_datetime(df['Date']).dt.day_name().isin(weekday_days))]['Confirmed'].sum()\n",
        "print(f\"Cases reported in {province} on weekdays:\", cases_on_weekdays)\n"
      ],
      "metadata": {
        "id": "_QulKOAa1ZjO",
        "outputId": "b33d8f90-b6f8-4b1c-98d3-93bcce264fe9",
        "colab": {
          "base_uri": "https://localhost:8080/"
        }
      },
      "execution_count": 45,
      "outputs": [
        {
          "output_type": "stream",
          "name": "stdout",
          "text": [
            "Cases reported in Ontario on weekdays: 2196938\n"
          ]
        }
      ]
    },
    {
      "cell_type": "markdown",
      "source": [
        "What is the trend of recovered cases over time globally?"
      ],
      "metadata": {
        "id": "ZmPyhhKt1Z9y"
      }
    },
    {
      "cell_type": "code",
      "source": [
        "recovered_cases_trend = df.groupby('Date')['Recovered'].sum()"
      ],
      "metadata": {
        "id": "4x-yHwjK1ajR"
      },
      "execution_count": 46,
      "outputs": []
    },
    {
      "cell_type": "markdown",
      "source": [
        "How many cases were reported in a specific country with latitude and longitude coordinates during a specific week?"
      ],
      "metadata": {
        "id": "_5zRu9LB1a5J"
      }
    },
    {
      "cell_type": "code",
      "source": [
        "country = 'Canada'\n",
        "start_date = '2020-07-20'\n",
        "end_date = '2020-07-26'\n",
        "cases_during_week_with_coordinates = df[(df['Country/Region'] == country) & (~df['Lat'].isnull()) & (~df['Long'].isnull()) & (df['Date'] >= start_date) & (df['Date'] <= end_date)]['Confirmed'].sum()\n",
        "print(f\"Cases reported in {country} with latitude and longitude coordinates during {start_date} to {end_date}: {cases_during_week_with_coordinates}\")\n"
      ],
      "metadata": {
        "id": "mJAMabZY1bQl",
        "outputId": "51ca8dd8-6bf4-4914-c106-a0a2240980bb",
        "colab": {
          "base_uri": "https://localhost:8080/"
        }
      },
      "execution_count": 47,
      "outputs": [
        {
          "output_type": "stream",
          "name": "stdout",
          "text": [
            "Cases reported in Canada with latitude and longitude coordinates during 2020-07-20 to 2020-07-26: 800882\n"
          ]
        }
      ]
    },
    {
      "cell_type": "markdown",
      "source": [
        "What is the distribution of deaths across different WHO regions?"
      ],
      "metadata": {
        "id": "ZL7CQyjQ1blr"
      }
    },
    {
      "cell_type": "code",
      "source": [
        "distribution_deaths_by_region = df.groupby('WHO Region')['Deaths'].sum()\n",
        "print(\"Distribution of deaths across different WHO regions:\")\n",
        "print(distribution_deaths_by_region)\n"
      ],
      "metadata": {
        "id": "V9qNEJv71b82",
        "outputId": "c982bfc8-964f-4d49-89e5-8fd3507619f0",
        "colab": {
          "base_uri": "https://localhost:8080/"
        }
      },
      "execution_count": 48,
      "outputs": [
        {
          "output_type": "stream",
          "name": "stdout",
          "text": [
            "Distribution of deaths across different WHO regions:\n",
            "WHO Region\n",
            "Africa                     439978\n",
            "Americas                 19359292\n",
            "Eastern Mediterranean     1924029\n",
            "Europe                   19271040\n",
            "South-East Asia           1458134\n",
            "Western Pacific            932430\n",
            "Name: Deaths, dtype: int64\n"
          ]
        }
      ]
    },
    {
      "cell_type": "markdown",
      "source": [
        "How many cases were reported in a specific country with latitude and longitude coordinates during a specific month?"
      ],
      "metadata": {
        "id": "9XswHWkt1cUh"
      }
    },
    {
      "cell_type": "code",
      "source": [
        "ountry = 'Brazil'\n",
        "month = '2020-07'\n",
        "cases_in_month_with_coordinates = df[(df['Country/Region'] == country) & (~df['Lat'].isnull()) & (~df['Long'].isnull()) & (df['Date'].str.startswith(month))]['Confirmed'].sum()\n",
        "print(f\"Cases reported in {country} with latitude and longitude coordinates during {month}: {cases_in_month_with_coordinates}\")\n"
      ],
      "metadata": {
        "id": "XhRVV8kc1c00",
        "outputId": "31c4e8cc-e0d4-4c63-907d-d71f160e609b",
        "colab": {
          "base_uri": "https://localhost:8080/"
        }
      },
      "execution_count": 49,
      "outputs": [
        {
          "output_type": "stream",
          "name": "stdout",
          "text": [
            "Cases reported in Canada with latitude and longitude coordinates during 2020-07: 2989648\n"
          ]
        }
      ]
    },
    {
      "cell_type": "markdown",
      "source": [
        "What is the percentage change in deaths from one day to the next globally?"
      ],
      "metadata": {
        "id": "ldAXUIDv1dKr"
      }
    },
    {
      "cell_type": "code",
      "source": [
        "percentage_change_deaths = df.groupby('Date')['Deaths'].sum().pct_change().mean() * 100\n",
        "print(\"Percentage change in deaths from one day to the next globally:\", percentage_change_deaths, \"%\")\n"
      ],
      "metadata": {
        "id": "J7yXZB6A1dhn",
        "outputId": "bd5d1fed-4242-4035-e107-c3adca84ece4",
        "colab": {
          "base_uri": "https://localhost:8080/"
        }
      },
      "execution_count": 50,
      "outputs": [
        {
          "output_type": "stream",
          "name": "stdout",
          "text": [
            "Percentage change in deaths from one day to the next globally: 6.156386397518868 %\n"
          ]
        }
      ]
    },
    {
      "cell_type": "markdown",
      "source": [
        "How many cases were reported in a specific province/state with latitude and longitude coordinates over time?"
      ],
      "metadata": {
        "id": "0N6b5KYN1d29"
      }
    },
    {
      "cell_type": "code",
      "source": [
        "province = 'Queensland'\n",
        "cases_over_time_with_coordinates = df[(df['Province/State'] == province) & (~df['Lat'].isnull()) & (~df['Long'].isnull())].groupby('Date')['Confirmed'].sum()"
      ],
      "metadata": {
        "id": "IUxx1EYN1eWu"
      },
      "execution_count": 53,
      "outputs": []
    },
    {
      "cell_type": "markdown",
      "source": [
        "What is the correlation between confirmed cases and recovered cases in a specific country?"
      ],
      "metadata": {
        "id": "4a61QYjy1ezI"
      }
    },
    {
      "cell_type": "code",
      "source": [
        "country = 'Russia'\n",
        "correlation_confirmed_recovered = df[df['Country/Region'] == country][['Confirmed', 'Recovered']].corr().iloc[0, 1]\n",
        "print(\"Correlation between confirmed cases and recovered cases in\", country, \":\", correlation_confirmed_recovered)\n"
      ],
      "metadata": {
        "id": "81J3ybDY1fvi",
        "outputId": "64b6fb41-b040-44b5-abe6-1937e65ef3c9",
        "colab": {
          "base_uri": "https://localhost:8080/"
        }
      },
      "execution_count": 54,
      "outputs": [
        {
          "output_type": "stream",
          "name": "stdout",
          "text": [
            "Correlation between confirmed cases and recovered cases in Russia : 0.971384092009577\n"
          ]
        }
      ]
    },
    {
      "cell_type": "markdown",
      "source": [
        "How many cases were reported in a specific country with latitude and longitude coordinates during a specific day of the week?"
      ],
      "metadata": {
        "id": "Z-1fwDyo6Xio"
      }
    },
    {
      "cell_type": "code",
      "source": [
        "country = 'Australia'\n",
        "day_of_week = 'Wednesday'\n",
        "cases_on_specific_day_of_week_with_coordinates = df[(df['Country/Region'] == country) & (~df['Lat'].isnull()) & (~df['Long'].isnull()) & (pd.to_datetime(df['Date']).dt.day_name() == day_of_week)]['Confirmed'].sum()\n",
        "print(f\"Cases reported in {country} with latitude and longitude coordinates on {day_of_week}s:\", cases_on_specific_day_of_week_with_coordinates)\n"
      ],
      "metadata": {
        "id": "22y2idPE6YJr",
        "outputId": "45986ab3-15b4-42fa-882e-cad82585b31a",
        "colab": {
          "base_uri": "https://localhost:8080/"
        }
      },
      "execution_count": 55,
      "outputs": [
        {
          "output_type": "stream",
          "name": "stdout",
          "text": [
            "Cases reported in Australia with latitude and longitude coordinates on Wednesdays: 132649\n"
          ]
        }
      ]
    },
    {
      "cell_type": "markdown",
      "source": [
        "What is the average duration between confirmation and recovery in a specific WHO region?"
      ],
      "metadata": {
        "id": "sgHSJBqO6YcM"
      }
    },
    {
      "cell_type": "code",
      "source": [
        "who_region = 'Eastern Mediterranean'\n",
        "average_duration_confirmation_recovery = (df[df['WHO Region'] == who_region]['Recovered'].mean() - df[df['WHO Region'] == who_region]['Confirmed'].mean())\n",
        "print(\"Average duration between confirmation and recovery in\", who_region, \":\", average_duration_confirmation_recovery)"
      ],
      "metadata": {
        "id": "mcMSe4f-6Y4C",
        "outputId": "334a4deb-a053-46b8-c0e2-ad2fa6fa88d0",
        "colab": {
          "base_uri": "https://localhost:8080/"
        }
      },
      "execution_count": 56,
      "outputs": [
        {
          "output_type": "stream",
          "name": "stdout",
          "text": [
            "Average duration between confirmation and recovery in Eastern Mediterranean : -6294.0495647969055\n"
          ]
        }
      ]
    }
  ]
}