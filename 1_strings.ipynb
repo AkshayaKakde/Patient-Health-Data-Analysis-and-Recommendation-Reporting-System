{
  "cells": [
    {
      "cell_type": "markdown",
      "metadata": {
        "id": "view-in-github",
        "colab_type": "text"
      },
      "source": [
        "<a href=\"https://colab.research.google.com/github/AkshayaKakde/Patient-Health-Data-Analysis-and-Recommendation-Reporting-System/blob/main/1_strings.ipynb\" target=\"_parent\"><img src=\"https://colab.research.google.com/assets/colab-badge.svg\" alt=\"Open In Colab\"/></a>"
      ]
    },
    {
      "cell_type": "code",
      "execution_count": null,
      "metadata": {
        "id": "VjGUm_gVNbJr"
      },
      "outputs": [],
      "source": [
        "Question 1: Write a program to reverse a string\n",
        "\n",
        "test_string = \"AKSHAYA KAKDE\"\n",
        "\n",
        "Question 2: Write a program to find the largest element in an array/list.\n",
        "\n",
        "test_array = [123,45,46,232,456,576]\n",
        "\n",
        "Question 3: Write a program to print 'Hello, World!'\n",
        "\n",
        "Question 4: Write a program to calculate the factorial of a number\n",
        "\n",
        "test_number = 6\n",
        "\n",
        "Question 5: Write a program to convert Celsius to Fahrenheit\n",
        "\n",
        "Question 6: Write a program to find the sum of two numbers\n",
        "\n",
        "Question 7: Write a program to find the square root of a number\n",
        "\n",
        "Question 8: Write a program to check if a year is a leap year\n",
        "\n",
        "Question 9: Write a program to check if a number is even or odd\n",
        "\n",
        "Question 10: Write a program to create a new text file and put string \"Hello World\" in it.\n",
        "\n",
        "Question 11: Write a program to sort an array/list in ascending order.\n",
        "test_list = [232,23,341,234,456,67]\n",
        "\n",
        "Question 12: Write a program to count the number of vowels in a string\n",
        "test_string = \"India is my country\"I love my India.\"\n",
        "\n",
        "Question 13: Write a program to find the Fibonacci series\n",
        "\n",
        "Question 14: Write a program to check if a number is prime\n",
        "\n",
        "Question 15: Write a program to check if a string is a palindrome\n"
      ]
    },
    {
      "cell_type": "markdown",
      "source": [
        "Question 1: Write a program to reverse a string\n",
        "\n",
        "test_string = \"AKSHAYA KAKDE\""
      ],
      "metadata": {
        "id": "k5Prb-i5NqLN"
      }
    },
    {
      "cell_type": "code",
      "source": [
        "test_string = \"AKSHAYA KAKDE\"\n",
        "output = \"\".join(list(test_string)[::-1])\n",
        "output"
      ],
      "metadata": {
        "id": "IQYto2U4Q2SD",
        "outputId": "9dedd965-ac15-4ecc-bf72-cf902d02cd7e",
        "colab": {
          "base_uri": "https://localhost:8080/",
          "height": 35
        }
      },
      "execution_count": 1,
      "outputs": [
        {
          "output_type": "execute_result",
          "data": {
            "text/plain": [
              "'EDKAK AYAHSKA'"
            ],
            "application/vnd.google.colaboratory.intrinsic+json": {
              "type": "string"
            }
          },
          "metadata": {},
          "execution_count": 1
        }
      ]
    },
    {
      "cell_type": "markdown",
      "source": [
        "Question 2: Write a program to find the largest element in an array/list.\n",
        "\n",
        "test_array = [123,45,46,232,456,576]"
      ],
      "metadata": {
        "id": "jQlwB9HANszZ"
      }
    },
    {
      "cell_type": "code",
      "source": [],
      "metadata": {
        "id": "QTX3MnOLNddj"
      },
      "execution_count": null,
      "outputs": []
    },
    {
      "cell_type": "markdown",
      "source": [
        "Question 4: Write a program to calculate the factorial of a number\n",
        "\n",
        "test_number = 6"
      ],
      "metadata": {
        "id": "b0Knrgv5Ntgu"
      }
    },
    {
      "cell_type": "code",
      "source": [
        "print(\"Hello World\")"
      ],
      "metadata": {
        "id": "lYz5CL3dNwM7",
        "outputId": "96f83add-89de-43ff-8cdd-6348841b87eb",
        "colab": {
          "base_uri": "https://localhost:8080/"
        }
      },
      "execution_count": 2,
      "outputs": [
        {
          "output_type": "stream",
          "name": "stdout",
          "text": [
            "Hello World\n"
          ]
        }
      ]
    },
    {
      "cell_type": "code",
      "source": [],
      "metadata": {
        "id": "HCrYagR2RFcq"
      },
      "execution_count": null,
      "outputs": []
    }
  ],
  "metadata": {
    "language_info": {
      "name": "python"
    },
    "colab": {
      "provenance": [],
      "include_colab_link": true
    },
    "kernelspec": {
      "name": "python3",
      "display_name": "Python 3"
    }
  },
  "nbformat": 4,
  "nbformat_minor": 0
}